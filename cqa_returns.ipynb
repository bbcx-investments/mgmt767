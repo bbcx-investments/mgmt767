{
 "cells": [
  {
   "cell_type": "code",
   "execution_count": 95,
   "id": "68995419",
   "metadata": {},
   "outputs": [],
   "source": [
    "import pandas as pd\n",
    "import numpy as np\n",
    "from pandas_datareader import DataReader as pdr\n",
    "import yfinance as yf\n",
    "import matplotlib.pyplot as plt\n",
    "import seaborn as sns\n",
    "sns.set_style('whitegrid')\n",
    "import pymssql\n",
    "from sqlalchemy import create_engine\n",
    "import plotly.express as px\n",
    "import plotly.graph_objects as go\n",
    "from plotly.subplots import make_subplots\n",
    "import plotly.io as pio\n",
    "import statsmodels.formula.api as smf\n",
    "from datetime import datetime"
   ]
  },
  {
   "attachments": {},
   "cell_type": "markdown",
   "id": "3bd13b05",
   "metadata": {},
   "source": [
    "### Process transactions file"
   ]
  },
  {
   "cell_type": "code",
   "execution_count": 96,
   "id": "2184f259",
   "metadata": {},
   "outputs": [],
   "source": [
    "FILE = 'TransactionHistory_3_23_2023.csv'\n",
    "\n",
    "transact = pd.read_csv(FILE,parse_dates=['CreateDate'])\n",
    "transact = transact.rename(columns={\"Symbol\": \"ticker\", \"CreateDate\": \"date\"})\n",
    "transact['Price'] = transact.Price.apply(lambda x: x[1:]).astype(float)\n",
    "transact['Quantity'] = transact.Quantity.astype(int)\n",
    "transact['date'] = transact.date.dt.date.astype(str)\n",
    "transact = transact.sort_values(by=[\"ticker\", \"date\",'TransactionType'])\n",
    "transact = transact.drop_duplicates(subset=['ticker','Quantity','Price','date'],keep='first')  # because short proceeds records show up twice (I think)\n",
    "transact.Amount = transact.Amount.map(\n",
    "    lambda x: float(x[1:].replace(\",\", \"\")) if x[0] != \"(\" else -float(x[2:-1].replace(\",\", \"\"))\n",
    ")    \n",
    "\n",
    "cashflow = transact.groupby(\"date\").Amount.sum()\n",
    "cash = 1000000 + cashflow.cumsum()\n",
    "\n",
    "trades = transact[transact.TransactionType != 'Dividends']\n",
    "trades = trades.groupby([\"ticker\", \"date\"]).Quantity.sum()\n",
    "\n",
    "positions = trades.groupby(\"ticker\").cumsum()       # sum up trades over time to get positions"
   ]
  },
  {
   "attachments": {},
   "cell_type": "markdown",
   "id": "25928eba",
   "metadata": {},
   "source": [
    "### Read closing prices from Yahoo"
   ]
  },
  {
   "cell_type": "code",
   "execution_count": 97,
   "id": "d61f717c",
   "metadata": {},
   "outputs": [
    {
     "name": "stdout",
     "output_type": "stream",
     "text": [
      "[*********************100%***********************]  96 of 96 completed\n",
      "\n",
      "2 Failed downloads:\n",
      "- FFHL: No data found for this date range, symbol may be delisted\n",
      "- SPNE: No data found for this date range, symbol may be delisted\n"
     ]
    }
   ],
   "source": [
    "prices = yf.download(list(transact.ticker.unique()), start=\"2022-11-04\")\n",
    "\n",
    "prices = prices.stack()\n",
    "prices.index.names = [\"date\", \"ticker\"]\n",
    "prices = prices.reset_index()[[\"date\", \"ticker\", \"Close\"]]\n",
    "prices.date = prices.date.dt.date.astype(str)\n",
    "prices = prices.set_index([\"ticker\", \"date\"])"
   ]
  },
  {
   "attachments": {},
   "cell_type": "markdown",
   "id": "d73584f0",
   "metadata": {},
   "source": [
    "### Combine transactions with prices"
   ]
  },
  {
   "cell_type": "code",
   "execution_count": 98,
   "id": "b06b8bf7",
   "metadata": {},
   "outputs": [],
   "source": [
    "df = prices.merge(positions, left_index=True, right_index=True, how=\"left\")\n",
    "indx = pd.MultiIndex.from_product(\n",
    "    (df.index.unique(\"ticker\"), df.index.unique(\"date\"))\n",
    ")\n",
    "df = df.reindex(indx)                                       # expand dataframe to all (ticker, date) pairs\n",
    "\n",
    "df[\"Price\"] = transact.set_index([\"ticker\", \"date\"]).Price  # use transaction prices when available\n",
    "df[\"Price\"] = df.Price.fillna(df.Close)                     # use closing prices on non-transaction dates\n",
    "df[\"Price\"] = df.groupby(\"ticker\").Price.ffill()            # filling forward for delisted stocks\n",
    "\n",
    "df[\"Quantity\"] = df.groupby(\"ticker\").Quantity.ffill()      # fill quantities until next transaction date\n",
    "df[\"Value\"] = df.Quantity * df.Price"
   ]
  },
  {
   "attachments": {},
   "cell_type": "markdown",
   "id": "f501efd1",
   "metadata": {},
   "source": [
    "### Compute portfolio value and daily returns"
   ]
  },
  {
   "cell_type": "code",
   "execution_count": 99,
   "id": "4ca806aa",
   "metadata": {},
   "outputs": [],
   "source": [
    "portfolio = df.groupby(\"date\").Value.sum()\n",
    "portfolio = pd.DataFrame(portfolio).merge(cash, on=\"date\", how=\"left\")\n",
    "portfolio.columns = [\"stocks\", \"cash\"]\n",
    "portfolio[\"cash\"] = portfolio.cash.ffill()\n",
    "equity = portfolio.stocks + portfolio.cash\n",
    "ret = equity.pct_change()"
   ]
  },
  {
   "attachments": {},
   "cell_type": "markdown",
   "id": "9206bd2f",
   "metadata": {},
   "source": [
    "### Sharpe ratio, etc."
   ]
  },
  {
   "cell_type": "code",
   "execution_count": 100,
   "id": "936bcbff",
   "metadata": {},
   "outputs": [
    {
     "name": "stdout",
     "output_type": "stream",
     "text": [
      "annualized average return =  43.3%\n",
      "annualized std dev is  55.8%\n",
      "annualized Sharpe ratio is  77.6%\n"
     ]
    }
   ],
   "source": [
    "print(f\"annualized average return = {252*ret.mean(): .1%}\")\n",
    "print(f\"annualized std dev is {np.sqrt(252)*ret.std(): .1%}\")\n",
    "print(f\"annualized Sharpe ratio is {np.sqrt(252)*ret.mean()/ret.std(): .1%}\")"
   ]
  },
  {
   "attachments": {},
   "cell_type": "markdown",
   "id": "928eb3dd",
   "metadata": {},
   "source": [
    "### Plot cumulative return"
   ]
  },
  {
   "cell_type": "code",
   "execution_count": 101,
   "id": "3f0ef1c3",
   "metadata": {},
   "outputs": [
    {
     "data": {
      "application/vnd.plotly.v1+json": {
       "config": {
        "plotlyServerURL": "https://plot.ly"
       },
       "data": [
        {
         "hovertemplate": "%{x}<br>cumulative ret = %{y:.2%}<extra></extra>",
         "mode": "lines",
         "type": "scatter",
         "x": [
          "2022-11-04",
          "2022-11-07",
          "2022-11-08",
          "2022-11-09",
          "2022-11-10",
          "2022-11-11",
          "2022-11-14",
          "2022-11-15",
          "2022-11-16",
          "2022-11-17",
          "2022-11-18",
          "2022-11-21",
          "2022-11-22",
          "2022-11-23",
          "2022-11-25",
          "2022-11-28",
          "2022-11-29",
          "2022-11-30",
          "2022-12-01",
          "2022-12-02",
          "2022-12-05",
          "2022-12-06",
          "2022-12-07",
          "2022-12-08",
          "2022-12-09",
          "2022-12-12",
          "2022-12-13",
          "2022-12-14",
          "2022-12-15",
          "2022-12-16",
          "2022-12-19",
          "2022-12-20",
          "2022-12-21",
          "2022-12-22",
          "2022-12-23",
          "2022-12-27",
          "2022-12-28",
          "2022-12-29",
          "2022-12-30",
          "2023-01-03",
          "2023-01-04",
          "2023-01-05",
          "2023-01-06",
          "2023-01-09",
          "2023-01-10",
          "2023-01-11",
          "2023-01-12",
          "2023-01-13",
          "2023-01-17",
          "2023-01-18",
          "2023-01-19",
          "2023-01-20",
          "2023-01-23",
          "2023-01-24",
          "2023-01-25",
          "2023-01-26",
          "2023-01-27",
          "2023-01-30",
          "2023-01-31",
          "2023-02-01",
          "2023-02-02",
          "2023-02-03",
          "2023-02-06",
          "2023-02-07",
          "2023-02-08",
          "2023-02-09",
          "2023-02-10",
          "2023-02-13",
          "2023-02-14",
          "2023-02-15",
          "2023-02-16",
          "2023-02-17",
          "2023-02-21",
          "2023-02-22",
          "2023-02-23",
          "2023-02-24",
          "2023-02-27",
          "2023-02-28",
          "2023-03-01",
          "2023-03-02",
          "2023-03-03",
          "2023-03-06",
          "2023-03-07",
          "2023-03-08",
          "2023-03-09",
          "2023-03-10",
          "2023-03-13",
          "2023-03-14",
          "2023-03-15",
          "2023-03-16",
          "2023-03-17",
          "2023-03-20",
          "2023-03-21",
          "2023-03-22",
          "2023-03-23",
          "2023-03-24"
         ],
         "y": [
          -0.021998950000000073,
          0.010013181867294163,
          -0.010009988744087317,
          0.012208011639442518,
          0.030197252534789998,
          0.003305488204021545,
          0.004251434122104714,
          0.036040038126010865,
          0.019738214231395546,
          0.046544516729888796,
          0.02488301344308841,
          -0.033644100935955046,
          -0.050321378532428795,
          -0.018503039049415526,
          -0.03831675697345727,
          -0.03788741707105636,
          -0.032005602896881036,
          -0.0035899776610374134,
          0.03906398594530103,
          -0.012481618543663031,
          -0.006890125610389708,
          -0.007829907233276368,
          -0.0099358442182923,
          0.07456820717845924,
          -0.027622993914451555,
          -0.014056463317718482,
          -0.00001602762493124743,
          0.05579316759864805,
          -0.001736707052192643,
          0.022688896382217383,
          -0.011909534002494726,
          -0.015619509354782068,
          -0.0017141091920852558,
          -0.021779080847167953,
          -0.0019088880961418697,
          0.00849153197975161,
          0.007942240438651993,
          0.017174012525749127,
          0.020036201530647224,
          0.056711591275329765,
          0.04644726275741573,
          0.09420423051258076,
          0.05495888386074088,
          0.058510177319679446,
          0.07216929724327104,
          0.06914459742942825,
          0.05545509295116435,
          0.11407292778564448,
          0.09755174910282127,
          0.10278972654937735,
          0.10150529516815188,
          0.062425661054344106,
          0.08901433837024686,
          0.0932615996035766,
          0.12574921059864064,
          0.10946584276088722,
          0.13584768813873294,
          0.12946193409179685,
          0.09363371023262013,
          0.10626422643077849,
          0.15578613682952902,
          0.14667818736797344,
          0.12874479513507842,
          0.10790801544910433,
          0.10454242414909376,
          0.16761156521923049,
          0.035809049372139024,
          0.1331727086318586,
          0.11319220898342142,
          0.08615759575862869,
          0.10345241607246414,
          0.10305345650218989,
          0.07818738026535055,
          0.08300051838695532,
          0.14827067327129373,
          0.10022181965934762,
          0.1551908010170746,
          0.06177368548564921,
          0.10533501870231632,
          0.07482490172081002,
          0.08578543348121648,
          0.0550583061784744,
          0.0703056565555571,
          0.07219336525573716,
          0.15104544778652196,
          0.08240044790344236,
          0.09267140014915465,
          0.08683973690872193,
          0.08782608719997409,
          0.12549583534275066,
          0.07615089498178507,
          0.08412181812843333,
          0.04877606690277081,
          0.08680886129974374,
          0.09343370906089787,
          0.08595295680831905
         ]
        }
       ],
       "layout": {
        "font": {
         "size": 16
        },
        "showlegend": false,
        "template": {
         "data": {
          "bar": [
           {
            "error_x": {
             "color": "#2a3f5f"
            },
            "error_y": {
             "color": "#2a3f5f"
            },
            "marker": {
             "line": {
              "color": "white",
              "width": 0.5
             },
             "pattern": {
              "fillmode": "overlay",
              "size": 10,
              "solidity": 0.2
             }
            },
            "type": "bar"
           }
          ],
          "barpolar": [
           {
            "marker": {
             "line": {
              "color": "white",
              "width": 0.5
             },
             "pattern": {
              "fillmode": "overlay",
              "size": 10,
              "solidity": 0.2
             }
            },
            "type": "barpolar"
           }
          ],
          "carpet": [
           {
            "aaxis": {
             "endlinecolor": "#2a3f5f",
             "gridcolor": "#C8D4E3",
             "linecolor": "#C8D4E3",
             "minorgridcolor": "#C8D4E3",
             "startlinecolor": "#2a3f5f"
            },
            "baxis": {
             "endlinecolor": "#2a3f5f",
             "gridcolor": "#C8D4E3",
             "linecolor": "#C8D4E3",
             "minorgridcolor": "#C8D4E3",
             "startlinecolor": "#2a3f5f"
            },
            "type": "carpet"
           }
          ],
          "choropleth": [
           {
            "colorbar": {
             "outlinewidth": 0,
             "ticks": ""
            },
            "type": "choropleth"
           }
          ],
          "contour": [
           {
            "colorbar": {
             "outlinewidth": 0,
             "ticks": ""
            },
            "colorscale": [
             [
              0,
              "#0d0887"
             ],
             [
              0.1111111111111111,
              "#46039f"
             ],
             [
              0.2222222222222222,
              "#7201a8"
             ],
             [
              0.3333333333333333,
              "#9c179e"
             ],
             [
              0.4444444444444444,
              "#bd3786"
             ],
             [
              0.5555555555555556,
              "#d8576b"
             ],
             [
              0.6666666666666666,
              "#ed7953"
             ],
             [
              0.7777777777777778,
              "#fb9f3a"
             ],
             [
              0.8888888888888888,
              "#fdca26"
             ],
             [
              1,
              "#f0f921"
             ]
            ],
            "type": "contour"
           }
          ],
          "contourcarpet": [
           {
            "colorbar": {
             "outlinewidth": 0,
             "ticks": ""
            },
            "type": "contourcarpet"
           }
          ],
          "heatmap": [
           {
            "colorbar": {
             "outlinewidth": 0,
             "ticks": ""
            },
            "colorscale": [
             [
              0,
              "#0d0887"
             ],
             [
              0.1111111111111111,
              "#46039f"
             ],
             [
              0.2222222222222222,
              "#7201a8"
             ],
             [
              0.3333333333333333,
              "#9c179e"
             ],
             [
              0.4444444444444444,
              "#bd3786"
             ],
             [
              0.5555555555555556,
              "#d8576b"
             ],
             [
              0.6666666666666666,
              "#ed7953"
             ],
             [
              0.7777777777777778,
              "#fb9f3a"
             ],
             [
              0.8888888888888888,
              "#fdca26"
             ],
             [
              1,
              "#f0f921"
             ]
            ],
            "type": "heatmap"
           }
          ],
          "heatmapgl": [
           {
            "colorbar": {
             "outlinewidth": 0,
             "ticks": ""
            },
            "colorscale": [
             [
              0,
              "#0d0887"
             ],
             [
              0.1111111111111111,
              "#46039f"
             ],
             [
              0.2222222222222222,
              "#7201a8"
             ],
             [
              0.3333333333333333,
              "#9c179e"
             ],
             [
              0.4444444444444444,
              "#bd3786"
             ],
             [
              0.5555555555555556,
              "#d8576b"
             ],
             [
              0.6666666666666666,
              "#ed7953"
             ],
             [
              0.7777777777777778,
              "#fb9f3a"
             ],
             [
              0.8888888888888888,
              "#fdca26"
             ],
             [
              1,
              "#f0f921"
             ]
            ],
            "type": "heatmapgl"
           }
          ],
          "histogram": [
           {
            "marker": {
             "pattern": {
              "fillmode": "overlay",
              "size": 10,
              "solidity": 0.2
             }
            },
            "type": "histogram"
           }
          ],
          "histogram2d": [
           {
            "colorbar": {
             "outlinewidth": 0,
             "ticks": ""
            },
            "colorscale": [
             [
              0,
              "#0d0887"
             ],
             [
              0.1111111111111111,
              "#46039f"
             ],
             [
              0.2222222222222222,
              "#7201a8"
             ],
             [
              0.3333333333333333,
              "#9c179e"
             ],
             [
              0.4444444444444444,
              "#bd3786"
             ],
             [
              0.5555555555555556,
              "#d8576b"
             ],
             [
              0.6666666666666666,
              "#ed7953"
             ],
             [
              0.7777777777777778,
              "#fb9f3a"
             ],
             [
              0.8888888888888888,
              "#fdca26"
             ],
             [
              1,
              "#f0f921"
             ]
            ],
            "type": "histogram2d"
           }
          ],
          "histogram2dcontour": [
           {
            "colorbar": {
             "outlinewidth": 0,
             "ticks": ""
            },
            "colorscale": [
             [
              0,
              "#0d0887"
             ],
             [
              0.1111111111111111,
              "#46039f"
             ],
             [
              0.2222222222222222,
              "#7201a8"
             ],
             [
              0.3333333333333333,
              "#9c179e"
             ],
             [
              0.4444444444444444,
              "#bd3786"
             ],
             [
              0.5555555555555556,
              "#d8576b"
             ],
             [
              0.6666666666666666,
              "#ed7953"
             ],
             [
              0.7777777777777778,
              "#fb9f3a"
             ],
             [
              0.8888888888888888,
              "#fdca26"
             ],
             [
              1,
              "#f0f921"
             ]
            ],
            "type": "histogram2dcontour"
           }
          ],
          "mesh3d": [
           {
            "colorbar": {
             "outlinewidth": 0,
             "ticks": ""
            },
            "type": "mesh3d"
           }
          ],
          "parcoords": [
           {
            "line": {
             "colorbar": {
              "outlinewidth": 0,
              "ticks": ""
             }
            },
            "type": "parcoords"
           }
          ],
          "pie": [
           {
            "automargin": true,
            "type": "pie"
           }
          ],
          "scatter": [
           {
            "fillpattern": {
             "fillmode": "overlay",
             "size": 10,
             "solidity": 0.2
            },
            "type": "scatter"
           }
          ],
          "scatter3d": [
           {
            "line": {
             "colorbar": {
              "outlinewidth": 0,
              "ticks": ""
             }
            },
            "marker": {
             "colorbar": {
              "outlinewidth": 0,
              "ticks": ""
             }
            },
            "type": "scatter3d"
           }
          ],
          "scattercarpet": [
           {
            "marker": {
             "colorbar": {
              "outlinewidth": 0,
              "ticks": ""
             }
            },
            "type": "scattercarpet"
           }
          ],
          "scattergeo": [
           {
            "marker": {
             "colorbar": {
              "outlinewidth": 0,
              "ticks": ""
             }
            },
            "type": "scattergeo"
           }
          ],
          "scattergl": [
           {
            "marker": {
             "colorbar": {
              "outlinewidth": 0,
              "ticks": ""
             }
            },
            "type": "scattergl"
           }
          ],
          "scattermapbox": [
           {
            "marker": {
             "colorbar": {
              "outlinewidth": 0,
              "ticks": ""
             }
            },
            "type": "scattermapbox"
           }
          ],
          "scatterpolar": [
           {
            "marker": {
             "colorbar": {
              "outlinewidth": 0,
              "ticks": ""
             }
            },
            "type": "scatterpolar"
           }
          ],
          "scatterpolargl": [
           {
            "marker": {
             "colorbar": {
              "outlinewidth": 0,
              "ticks": ""
             }
            },
            "type": "scatterpolargl"
           }
          ],
          "scatterternary": [
           {
            "marker": {
             "colorbar": {
              "outlinewidth": 0,
              "ticks": ""
             }
            },
            "type": "scatterternary"
           }
          ],
          "surface": [
           {
            "colorbar": {
             "outlinewidth": 0,
             "ticks": ""
            },
            "colorscale": [
             [
              0,
              "#0d0887"
             ],
             [
              0.1111111111111111,
              "#46039f"
             ],
             [
              0.2222222222222222,
              "#7201a8"
             ],
             [
              0.3333333333333333,
              "#9c179e"
             ],
             [
              0.4444444444444444,
              "#bd3786"
             ],
             [
              0.5555555555555556,
              "#d8576b"
             ],
             [
              0.6666666666666666,
              "#ed7953"
             ],
             [
              0.7777777777777778,
              "#fb9f3a"
             ],
             [
              0.8888888888888888,
              "#fdca26"
             ],
             [
              1,
              "#f0f921"
             ]
            ],
            "type": "surface"
           }
          ],
          "table": [
           {
            "cells": {
             "fill": {
              "color": "#EBF0F8"
             },
             "line": {
              "color": "white"
             }
            },
            "header": {
             "fill": {
              "color": "#C8D4E3"
             },
             "line": {
              "color": "white"
             }
            },
            "type": "table"
           }
          ]
         },
         "layout": {
          "annotationdefaults": {
           "arrowcolor": "#2a3f5f",
           "arrowhead": 0,
           "arrowwidth": 1
          },
          "autotypenumbers": "strict",
          "coloraxis": {
           "colorbar": {
            "outlinewidth": 0,
            "ticks": ""
           }
          },
          "colorscale": {
           "diverging": [
            [
             0,
             "#8e0152"
            ],
            [
             0.1,
             "#c51b7d"
            ],
            [
             0.2,
             "#de77ae"
            ],
            [
             0.3,
             "#f1b6da"
            ],
            [
             0.4,
             "#fde0ef"
            ],
            [
             0.5,
             "#f7f7f7"
            ],
            [
             0.6,
             "#e6f5d0"
            ],
            [
             0.7,
             "#b8e186"
            ],
            [
             0.8,
             "#7fbc41"
            ],
            [
             0.9,
             "#4d9221"
            ],
            [
             1,
             "#276419"
            ]
           ],
           "sequential": [
            [
             0,
             "#0d0887"
            ],
            [
             0.1111111111111111,
             "#46039f"
            ],
            [
             0.2222222222222222,
             "#7201a8"
            ],
            [
             0.3333333333333333,
             "#9c179e"
            ],
            [
             0.4444444444444444,
             "#bd3786"
            ],
            [
             0.5555555555555556,
             "#d8576b"
            ],
            [
             0.6666666666666666,
             "#ed7953"
            ],
            [
             0.7777777777777778,
             "#fb9f3a"
            ],
            [
             0.8888888888888888,
             "#fdca26"
            ],
            [
             1,
             "#f0f921"
            ]
           ],
           "sequentialminus": [
            [
             0,
             "#0d0887"
            ],
            [
             0.1111111111111111,
             "#46039f"
            ],
            [
             0.2222222222222222,
             "#7201a8"
            ],
            [
             0.3333333333333333,
             "#9c179e"
            ],
            [
             0.4444444444444444,
             "#bd3786"
            ],
            [
             0.5555555555555556,
             "#d8576b"
            ],
            [
             0.6666666666666666,
             "#ed7953"
            ],
            [
             0.7777777777777778,
             "#fb9f3a"
            ],
            [
             0.8888888888888888,
             "#fdca26"
            ],
            [
             1,
             "#f0f921"
            ]
           ]
          },
          "colorway": [
           "#636efa",
           "#EF553B",
           "#00cc96",
           "#ab63fa",
           "#FFA15A",
           "#19d3f3",
           "#FF6692",
           "#B6E880",
           "#FF97FF",
           "#FECB52"
          ],
          "font": {
           "color": "#2a3f5f"
          },
          "geo": {
           "bgcolor": "white",
           "lakecolor": "white",
           "landcolor": "white",
           "showlakes": true,
           "showland": true,
           "subunitcolor": "#C8D4E3"
          },
          "hoverlabel": {
           "align": "left"
          },
          "hovermode": "closest",
          "mapbox": {
           "style": "light"
          },
          "paper_bgcolor": "white",
          "plot_bgcolor": "white",
          "polar": {
           "angularaxis": {
            "gridcolor": "#EBF0F8",
            "linecolor": "#EBF0F8",
            "ticks": ""
           },
           "bgcolor": "white",
           "radialaxis": {
            "gridcolor": "#EBF0F8",
            "linecolor": "#EBF0F8",
            "ticks": ""
           }
          },
          "scene": {
           "xaxis": {
            "backgroundcolor": "white",
            "gridcolor": "#DFE8F3",
            "gridwidth": 2,
            "linecolor": "#EBF0F8",
            "showbackground": true,
            "ticks": "",
            "zerolinecolor": "#EBF0F8"
           },
           "yaxis": {
            "backgroundcolor": "white",
            "gridcolor": "#DFE8F3",
            "gridwidth": 2,
            "linecolor": "#EBF0F8",
            "showbackground": true,
            "ticks": "",
            "zerolinecolor": "#EBF0F8"
           },
           "zaxis": {
            "backgroundcolor": "white",
            "gridcolor": "#DFE8F3",
            "gridwidth": 2,
            "linecolor": "#EBF0F8",
            "showbackground": true,
            "ticks": "",
            "zerolinecolor": "#EBF0F8"
           }
          },
          "shapedefaults": {
           "line": {
            "color": "#2a3f5f"
           }
          },
          "ternary": {
           "aaxis": {
            "gridcolor": "#DFE8F3",
            "linecolor": "#A2B1C6",
            "ticks": ""
           },
           "baxis": {
            "gridcolor": "#DFE8F3",
            "linecolor": "#A2B1C6",
            "ticks": ""
           },
           "bgcolor": "white",
           "caxis": {
            "gridcolor": "#DFE8F3",
            "linecolor": "#A2B1C6",
            "ticks": ""
           }
          },
          "title": {
           "x": 0.05
          },
          "xaxis": {
           "automargin": true,
           "gridcolor": "#EBF0F8",
           "linecolor": "#EBF0F8",
           "ticks": "",
           "title": {
            "standoff": 15
           },
           "zerolinecolor": "#EBF0F8",
           "zerolinewidth": 2
          },
          "yaxis": {
           "automargin": true,
           "gridcolor": "#EBF0F8",
           "linecolor": "#EBF0F8",
           "ticks": "",
           "title": {
            "standoff": 15
           },
           "zerolinecolor": "#EBF0F8",
           "zerolinewidth": 2
          }
         }
        },
        "yaxis": {
         "tickformat": ".0%",
         "title": {
          "text": "<b>Cumulative Return</b>"
         }
        }
       }
      }
     },
     "metadata": {},
     "output_type": "display_data"
    }
   ],
   "source": [
    "cum_ret = equity/1000000\n",
    "trace1 = go.Scatter(\n",
    "    x = cum_ret.index.to_list(),\n",
    "    y = cum_ret-1,\n",
    "    mode=\"lines\",\n",
    "    hovertemplate=\"%{x}<br>cumulative ret = %{y:.2%}<extra></extra>\"\n",
    ")\n",
    "\n",
    "fig = go.Figure(trace1)\n",
    "\n",
    "fig.update_yaxes(\n",
    "    title_text=\"<b>Cumulative Return</b>\", \n",
    "    tickformat=\".0%\", \n",
    ")\n",
    "\n",
    "fig.update_layout(\n",
    "    template=\"plotly_white\",\n",
    "    font_size=16,\n",
    "    showlegend=False,\n",
    ")\n",
    "\n",
    "fig.write_image(\"cqa_figures/cumret.jpeg\")\n",
    "fig.show()"
   ]
  },
  {
   "attachments": {},
   "cell_type": "markdown",
   "id": "50b9487f",
   "metadata": {},
   "source": [
    "### Plot drawdowns"
   ]
  },
  {
   "cell_type": "code",
   "execution_count": 102,
   "id": "f6d78790",
   "metadata": {},
   "outputs": [
    {
     "data": {
      "application/vnd.plotly.v1+json": {
       "config": {
        "plotlyServerURL": "https://plot.ly"
       },
       "data": [
        {
         "hovertemplate": "%{x}<br>cumulative ret = %{y:.2%}<extra></extra>",
         "mode": "lines",
         "type": "scatter",
         "x": [
          "2022-11-04",
          "2022-11-07",
          "2022-11-08",
          "2022-11-09",
          "2022-11-10",
          "2022-11-11",
          "2022-11-14",
          "2022-11-15",
          "2022-11-16",
          "2022-11-17",
          "2022-11-18",
          "2022-11-21",
          "2022-11-22",
          "2022-11-23",
          "2022-11-25",
          "2022-11-28",
          "2022-11-29",
          "2022-11-30",
          "2022-12-01",
          "2022-12-02",
          "2022-12-05",
          "2022-12-06",
          "2022-12-07",
          "2022-12-08",
          "2022-12-09",
          "2022-12-12",
          "2022-12-13",
          "2022-12-14",
          "2022-12-15",
          "2022-12-16",
          "2022-12-19",
          "2022-12-20",
          "2022-12-21",
          "2022-12-22",
          "2022-12-23",
          "2022-12-27",
          "2022-12-28",
          "2022-12-29",
          "2022-12-30",
          "2023-01-03",
          "2023-01-04",
          "2023-01-05",
          "2023-01-06",
          "2023-01-09",
          "2023-01-10",
          "2023-01-11",
          "2023-01-12",
          "2023-01-13",
          "2023-01-17",
          "2023-01-18",
          "2023-01-19",
          "2023-01-20",
          "2023-01-23",
          "2023-01-24",
          "2023-01-25",
          "2023-01-26",
          "2023-01-27",
          "2023-01-30",
          "2023-01-31",
          "2023-02-01",
          "2023-02-02",
          "2023-02-03",
          "2023-02-06",
          "2023-02-07",
          "2023-02-08",
          "2023-02-09",
          "2023-02-10",
          "2023-02-13",
          "2023-02-14",
          "2023-02-15",
          "2023-02-16",
          "2023-02-17",
          "2023-02-21",
          "2023-02-22",
          "2023-02-23",
          "2023-02-24",
          "2023-02-27",
          "2023-02-28",
          "2023-03-01",
          "2023-03-02",
          "2023-03-03",
          "2023-03-06",
          "2023-03-07",
          "2023-03-08",
          "2023-03-09",
          "2023-03-10",
          "2023-03-13",
          "2023-03-14",
          "2023-03-15",
          "2023-03-16",
          "2023-03-17",
          "2023-03-20",
          "2023-03-21",
          "2023-03-22",
          "2023-03-23",
          "2023-03-24"
         ],
         "xaxis": "x",
         "y": [
          -0.021998950000000073,
          0.010013181867294163,
          -0.010009988744087317,
          0.012208011639442518,
          0.030197252534789998,
          0.003305488204021545,
          0.004251434122104714,
          0.036040038126010865,
          0.019738214231395546,
          0.046544516729888796,
          0.02488301344308841,
          -0.033644100935955046,
          -0.050321378532428795,
          -0.018503039049415526,
          -0.03831675697345727,
          -0.03788741707105636,
          -0.032005602896881036,
          -0.0035899776610374134,
          0.03906398594530103,
          -0.012481618543663031,
          -0.006890125610389708,
          -0.007829907233276368,
          -0.0099358442182923,
          0.07456820717845924,
          -0.027622993914451555,
          -0.014056463317718482,
          -0.00001602762493124743,
          0.05579316759864805,
          -0.001736707052192643,
          0.022688896382217383,
          -0.011909534002494726,
          -0.015619509354782068,
          -0.0017141091920852558,
          -0.021779080847167953,
          -0.0019088880961418697,
          0.00849153197975161,
          0.007942240438651993,
          0.017174012525749127,
          0.020036201530647224,
          0.056711591275329765,
          0.04644726275741573,
          0.09420423051258076,
          0.05495888386074088,
          0.058510177319679446,
          0.07216929724327104,
          0.06914459742942825,
          0.05545509295116435,
          0.11407292778564448,
          0.09755174910282127,
          0.10278972654937735,
          0.10150529516815188,
          0.062425661054344106,
          0.08901433837024686,
          0.0932615996035766,
          0.12574921059864064,
          0.10946584276088722,
          0.13584768813873294,
          0.12946193409179685,
          0.09363371023262013,
          0.10626422643077849,
          0.15578613682952902,
          0.14667818736797344,
          0.12874479513507842,
          0.10790801544910433,
          0.10454242414909376,
          0.16761156521923049,
          0.035809049372139024,
          0.1331727086318586,
          0.11319220898342142,
          0.08615759575862869,
          0.10345241607246414,
          0.10305345650218989,
          0.07818738026535055,
          0.08300051838695532,
          0.14827067327129373,
          0.10022181965934762,
          0.1551908010170746,
          0.06177368548564921,
          0.10533501870231632,
          0.07482490172081002,
          0.08578543348121648,
          0.0550583061784744,
          0.0703056565555571,
          0.07219336525573716,
          0.15104544778652196,
          0.08240044790344236,
          0.09267140014915465,
          0.08683973690872193,
          0.08782608719997409,
          0.12549583534275066,
          0.07615089498178507,
          0.08412181812843333,
          0.04877606690277081,
          0.08680886129974374,
          0.09343370906089787,
          0.08595295680831905
         ],
         "yaxis": "y"
        },
        {
         "hovertemplate": "%{x}<br>drawdown = %{y:.2%}<extra></extra>",
         "mode": "lines",
         "type": "scatter",
         "x": [
          "2022-11-04",
          "2022-11-07",
          "2022-11-08",
          "2022-11-09",
          "2022-11-10",
          "2022-11-11",
          "2022-11-14",
          "2022-11-15",
          "2022-11-16",
          "2022-11-17",
          "2022-11-18",
          "2022-11-21",
          "2022-11-22",
          "2022-11-23",
          "2022-11-25",
          "2022-11-28",
          "2022-11-29",
          "2022-11-30",
          "2022-12-01",
          "2022-12-02",
          "2022-12-05",
          "2022-12-06",
          "2022-12-07",
          "2022-12-08",
          "2022-12-09",
          "2022-12-12",
          "2022-12-13",
          "2022-12-14",
          "2022-12-15",
          "2022-12-16",
          "2022-12-19",
          "2022-12-20",
          "2022-12-21",
          "2022-12-22",
          "2022-12-23",
          "2022-12-27",
          "2022-12-28",
          "2022-12-29",
          "2022-12-30",
          "2023-01-03",
          "2023-01-04",
          "2023-01-05",
          "2023-01-06",
          "2023-01-09",
          "2023-01-10",
          "2023-01-11",
          "2023-01-12",
          "2023-01-13",
          "2023-01-17",
          "2023-01-18",
          "2023-01-19",
          "2023-01-20",
          "2023-01-23",
          "2023-01-24",
          "2023-01-25",
          "2023-01-26",
          "2023-01-27",
          "2023-01-30",
          "2023-01-31",
          "2023-02-01",
          "2023-02-02",
          "2023-02-03",
          "2023-02-06",
          "2023-02-07",
          "2023-02-08",
          "2023-02-09",
          "2023-02-10",
          "2023-02-13",
          "2023-02-14",
          "2023-02-15",
          "2023-02-16",
          "2023-02-17",
          "2023-02-21",
          "2023-02-22",
          "2023-02-23",
          "2023-02-24",
          "2023-02-27",
          "2023-02-28",
          "2023-03-01",
          "2023-03-02",
          "2023-03-03",
          "2023-03-06",
          "2023-03-07",
          "2023-03-08",
          "2023-03-09",
          "2023-03-10",
          "2023-03-13",
          "2023-03-14",
          "2023-03-15",
          "2023-03-16",
          "2023-03-17",
          "2023-03-20",
          "2023-03-21",
          "2023-03-22",
          "2023-03-23",
          "2023-03-24"
         ],
         "xaxis": "x",
         "y": [
          0,
          0,
          -0.01982466265872196,
          0,
          0,
          -0.02610351004586897,
          -0.025185291796154474,
          0,
          -0.015734743151531116,
          0,
          -0.02069811932557397,
          -0.07662227108733721,
          -0.09255783553765295,
          -0.06215459996155426,
          -0.08108711320614426,
          -0.0806768679700004,
          -0.075056644386436,
          -0.04790478913174201,
          -0.007147838113912286,
          -0.05640097896455398,
          -0.0510581647374585,
          -0.05195615006714438,
          -0.0539684266128152,
          0,
          -0.09509978092618121,
          -0.08247468136888525,
          -0.06940856271862872,
          -0.017472171104996326,
          -0.07100983792458282,
          -0.04827921620021092,
          -0.08047673530935961,
          -0.08392926194052508,
          -0.0709888082124096,
          -0.08966139830119346,
          -0.07117007069789494,
          -0.06149137370461388,
          -0.06200254790224058,
          -0.05341140215139306,
          -0.05074783088083268,
          -0.01661748019701459,
          -0.02616952952189222,
          0,
          -0.03586656453837267,
          -0.03262101552667218,
          -0.02013786152059327,
          -0.022902153349757537,
          -0.03541307598789334,
          0,
          -0.014829530698372784,
          -0.010127883870846621,
          -0.011280798863385288,
          -0.0463589639808909,
          -0.022492772950873707,
          -0.018680400235048245,
          0,
          -0.014464471912971066,
          0,
          -0.005622016150246489,
          -0.03716517482664172,
          -0.02604527175332083,
          0,
          -0.007880306893574551,
          -0.02339649251082776,
          -0.041424723705166255,
          -0.044336673583058706,
          0,
          -0.11288216027762987,
          -0.029495131440313904,
          -0.04660741453480832,
          -0.06976118761320083,
          -0.054949052457115566,
          -0.05529074106500409,
          -0.07658727235807194,
          -0.07246506402699826,
          -0.016564491586125496,
          -0.0577158941957121,
          -0.010637753660673765,
          -0.09064476824851353,
          -0.053336698926257364,
          -0.07946706444364382,
          -0.07007992570084753,
          -0.09639614953593156,
          -0.08333756838508466,
          -0.08172084176433936,
          -0.014188038150853788,
          -0.0729789939172013,
          -0.06418244500345038,
          -0.06917696836562492,
          -0.06833220944011109,
          -0.03606998348682178,
          -0.07833141856579062,
          -0.07150472775175121,
          -0.10177656838654825,
          -0.06920341175647338,
          -0.06352956613992167,
          -0.06993645048006969
         ],
         "yaxis": "y2"
        }
       ],
       "layout": {
        "font": {
         "size": 16
        },
        "showlegend": false,
        "template": {
         "data": {
          "bar": [
           {
            "error_x": {
             "color": "#2a3f5f"
            },
            "error_y": {
             "color": "#2a3f5f"
            },
            "marker": {
             "line": {
              "color": "white",
              "width": 0.5
             },
             "pattern": {
              "fillmode": "overlay",
              "size": 10,
              "solidity": 0.2
             }
            },
            "type": "bar"
           }
          ],
          "barpolar": [
           {
            "marker": {
             "line": {
              "color": "white",
              "width": 0.5
             },
             "pattern": {
              "fillmode": "overlay",
              "size": 10,
              "solidity": 0.2
             }
            },
            "type": "barpolar"
           }
          ],
          "carpet": [
           {
            "aaxis": {
             "endlinecolor": "#2a3f5f",
             "gridcolor": "#C8D4E3",
             "linecolor": "#C8D4E3",
             "minorgridcolor": "#C8D4E3",
             "startlinecolor": "#2a3f5f"
            },
            "baxis": {
             "endlinecolor": "#2a3f5f",
             "gridcolor": "#C8D4E3",
             "linecolor": "#C8D4E3",
             "minorgridcolor": "#C8D4E3",
             "startlinecolor": "#2a3f5f"
            },
            "type": "carpet"
           }
          ],
          "choropleth": [
           {
            "colorbar": {
             "outlinewidth": 0,
             "ticks": ""
            },
            "type": "choropleth"
           }
          ],
          "contour": [
           {
            "colorbar": {
             "outlinewidth": 0,
             "ticks": ""
            },
            "colorscale": [
             [
              0,
              "#0d0887"
             ],
             [
              0.1111111111111111,
              "#46039f"
             ],
             [
              0.2222222222222222,
              "#7201a8"
             ],
             [
              0.3333333333333333,
              "#9c179e"
             ],
             [
              0.4444444444444444,
              "#bd3786"
             ],
             [
              0.5555555555555556,
              "#d8576b"
             ],
             [
              0.6666666666666666,
              "#ed7953"
             ],
             [
              0.7777777777777778,
              "#fb9f3a"
             ],
             [
              0.8888888888888888,
              "#fdca26"
             ],
             [
              1,
              "#f0f921"
             ]
            ],
            "type": "contour"
           }
          ],
          "contourcarpet": [
           {
            "colorbar": {
             "outlinewidth": 0,
             "ticks": ""
            },
            "type": "contourcarpet"
           }
          ],
          "heatmap": [
           {
            "colorbar": {
             "outlinewidth": 0,
             "ticks": ""
            },
            "colorscale": [
             [
              0,
              "#0d0887"
             ],
             [
              0.1111111111111111,
              "#46039f"
             ],
             [
              0.2222222222222222,
              "#7201a8"
             ],
             [
              0.3333333333333333,
              "#9c179e"
             ],
             [
              0.4444444444444444,
              "#bd3786"
             ],
             [
              0.5555555555555556,
              "#d8576b"
             ],
             [
              0.6666666666666666,
              "#ed7953"
             ],
             [
              0.7777777777777778,
              "#fb9f3a"
             ],
             [
              0.8888888888888888,
              "#fdca26"
             ],
             [
              1,
              "#f0f921"
             ]
            ],
            "type": "heatmap"
           }
          ],
          "heatmapgl": [
           {
            "colorbar": {
             "outlinewidth": 0,
             "ticks": ""
            },
            "colorscale": [
             [
              0,
              "#0d0887"
             ],
             [
              0.1111111111111111,
              "#46039f"
             ],
             [
              0.2222222222222222,
              "#7201a8"
             ],
             [
              0.3333333333333333,
              "#9c179e"
             ],
             [
              0.4444444444444444,
              "#bd3786"
             ],
             [
              0.5555555555555556,
              "#d8576b"
             ],
             [
              0.6666666666666666,
              "#ed7953"
             ],
             [
              0.7777777777777778,
              "#fb9f3a"
             ],
             [
              0.8888888888888888,
              "#fdca26"
             ],
             [
              1,
              "#f0f921"
             ]
            ],
            "type": "heatmapgl"
           }
          ],
          "histogram": [
           {
            "marker": {
             "pattern": {
              "fillmode": "overlay",
              "size": 10,
              "solidity": 0.2
             }
            },
            "type": "histogram"
           }
          ],
          "histogram2d": [
           {
            "colorbar": {
             "outlinewidth": 0,
             "ticks": ""
            },
            "colorscale": [
             [
              0,
              "#0d0887"
             ],
             [
              0.1111111111111111,
              "#46039f"
             ],
             [
              0.2222222222222222,
              "#7201a8"
             ],
             [
              0.3333333333333333,
              "#9c179e"
             ],
             [
              0.4444444444444444,
              "#bd3786"
             ],
             [
              0.5555555555555556,
              "#d8576b"
             ],
             [
              0.6666666666666666,
              "#ed7953"
             ],
             [
              0.7777777777777778,
              "#fb9f3a"
             ],
             [
              0.8888888888888888,
              "#fdca26"
             ],
             [
              1,
              "#f0f921"
             ]
            ],
            "type": "histogram2d"
           }
          ],
          "histogram2dcontour": [
           {
            "colorbar": {
             "outlinewidth": 0,
             "ticks": ""
            },
            "colorscale": [
             [
              0,
              "#0d0887"
             ],
             [
              0.1111111111111111,
              "#46039f"
             ],
             [
              0.2222222222222222,
              "#7201a8"
             ],
             [
              0.3333333333333333,
              "#9c179e"
             ],
             [
              0.4444444444444444,
              "#bd3786"
             ],
             [
              0.5555555555555556,
              "#d8576b"
             ],
             [
              0.6666666666666666,
              "#ed7953"
             ],
             [
              0.7777777777777778,
              "#fb9f3a"
             ],
             [
              0.8888888888888888,
              "#fdca26"
             ],
             [
              1,
              "#f0f921"
             ]
            ],
            "type": "histogram2dcontour"
           }
          ],
          "mesh3d": [
           {
            "colorbar": {
             "outlinewidth": 0,
             "ticks": ""
            },
            "type": "mesh3d"
           }
          ],
          "parcoords": [
           {
            "line": {
             "colorbar": {
              "outlinewidth": 0,
              "ticks": ""
             }
            },
            "type": "parcoords"
           }
          ],
          "pie": [
           {
            "automargin": true,
            "type": "pie"
           }
          ],
          "scatter": [
           {
            "fillpattern": {
             "fillmode": "overlay",
             "size": 10,
             "solidity": 0.2
            },
            "type": "scatter"
           }
          ],
          "scatter3d": [
           {
            "line": {
             "colorbar": {
              "outlinewidth": 0,
              "ticks": ""
             }
            },
            "marker": {
             "colorbar": {
              "outlinewidth": 0,
              "ticks": ""
             }
            },
            "type": "scatter3d"
           }
          ],
          "scattercarpet": [
           {
            "marker": {
             "colorbar": {
              "outlinewidth": 0,
              "ticks": ""
             }
            },
            "type": "scattercarpet"
           }
          ],
          "scattergeo": [
           {
            "marker": {
             "colorbar": {
              "outlinewidth": 0,
              "ticks": ""
             }
            },
            "type": "scattergeo"
           }
          ],
          "scattergl": [
           {
            "marker": {
             "colorbar": {
              "outlinewidth": 0,
              "ticks": ""
             }
            },
            "type": "scattergl"
           }
          ],
          "scattermapbox": [
           {
            "marker": {
             "colorbar": {
              "outlinewidth": 0,
              "ticks": ""
             }
            },
            "type": "scattermapbox"
           }
          ],
          "scatterpolar": [
           {
            "marker": {
             "colorbar": {
              "outlinewidth": 0,
              "ticks": ""
             }
            },
            "type": "scatterpolar"
           }
          ],
          "scatterpolargl": [
           {
            "marker": {
             "colorbar": {
              "outlinewidth": 0,
              "ticks": ""
             }
            },
            "type": "scatterpolargl"
           }
          ],
          "scatterternary": [
           {
            "marker": {
             "colorbar": {
              "outlinewidth": 0,
              "ticks": ""
             }
            },
            "type": "scatterternary"
           }
          ],
          "surface": [
           {
            "colorbar": {
             "outlinewidth": 0,
             "ticks": ""
            },
            "colorscale": [
             [
              0,
              "#0d0887"
             ],
             [
              0.1111111111111111,
              "#46039f"
             ],
             [
              0.2222222222222222,
              "#7201a8"
             ],
             [
              0.3333333333333333,
              "#9c179e"
             ],
             [
              0.4444444444444444,
              "#bd3786"
             ],
             [
              0.5555555555555556,
              "#d8576b"
             ],
             [
              0.6666666666666666,
              "#ed7953"
             ],
             [
              0.7777777777777778,
              "#fb9f3a"
             ],
             [
              0.8888888888888888,
              "#fdca26"
             ],
             [
              1,
              "#f0f921"
             ]
            ],
            "type": "surface"
           }
          ],
          "table": [
           {
            "cells": {
             "fill": {
              "color": "#EBF0F8"
             },
             "line": {
              "color": "white"
             }
            },
            "header": {
             "fill": {
              "color": "#C8D4E3"
             },
             "line": {
              "color": "white"
             }
            },
            "type": "table"
           }
          ]
         },
         "layout": {
          "annotationdefaults": {
           "arrowcolor": "#2a3f5f",
           "arrowhead": 0,
           "arrowwidth": 1
          },
          "autotypenumbers": "strict",
          "coloraxis": {
           "colorbar": {
            "outlinewidth": 0,
            "ticks": ""
           }
          },
          "colorscale": {
           "diverging": [
            [
             0,
             "#8e0152"
            ],
            [
             0.1,
             "#c51b7d"
            ],
            [
             0.2,
             "#de77ae"
            ],
            [
             0.3,
             "#f1b6da"
            ],
            [
             0.4,
             "#fde0ef"
            ],
            [
             0.5,
             "#f7f7f7"
            ],
            [
             0.6,
             "#e6f5d0"
            ],
            [
             0.7,
             "#b8e186"
            ],
            [
             0.8,
             "#7fbc41"
            ],
            [
             0.9,
             "#4d9221"
            ],
            [
             1,
             "#276419"
            ]
           ],
           "sequential": [
            [
             0,
             "#0d0887"
            ],
            [
             0.1111111111111111,
             "#46039f"
            ],
            [
             0.2222222222222222,
             "#7201a8"
            ],
            [
             0.3333333333333333,
             "#9c179e"
            ],
            [
             0.4444444444444444,
             "#bd3786"
            ],
            [
             0.5555555555555556,
             "#d8576b"
            ],
            [
             0.6666666666666666,
             "#ed7953"
            ],
            [
             0.7777777777777778,
             "#fb9f3a"
            ],
            [
             0.8888888888888888,
             "#fdca26"
            ],
            [
             1,
             "#f0f921"
            ]
           ],
           "sequentialminus": [
            [
             0,
             "#0d0887"
            ],
            [
             0.1111111111111111,
             "#46039f"
            ],
            [
             0.2222222222222222,
             "#7201a8"
            ],
            [
             0.3333333333333333,
             "#9c179e"
            ],
            [
             0.4444444444444444,
             "#bd3786"
            ],
            [
             0.5555555555555556,
             "#d8576b"
            ],
            [
             0.6666666666666666,
             "#ed7953"
            ],
            [
             0.7777777777777778,
             "#fb9f3a"
            ],
            [
             0.8888888888888888,
             "#fdca26"
            ],
            [
             1,
             "#f0f921"
            ]
           ]
          },
          "colorway": [
           "#636efa",
           "#EF553B",
           "#00cc96",
           "#ab63fa",
           "#FFA15A",
           "#19d3f3",
           "#FF6692",
           "#B6E880",
           "#FF97FF",
           "#FECB52"
          ],
          "font": {
           "color": "#2a3f5f"
          },
          "geo": {
           "bgcolor": "white",
           "lakecolor": "white",
           "landcolor": "white",
           "showlakes": true,
           "showland": true,
           "subunitcolor": "#C8D4E3"
          },
          "hoverlabel": {
           "align": "left"
          },
          "hovermode": "closest",
          "mapbox": {
           "style": "light"
          },
          "paper_bgcolor": "white",
          "plot_bgcolor": "white",
          "polar": {
           "angularaxis": {
            "gridcolor": "#EBF0F8",
            "linecolor": "#EBF0F8",
            "ticks": ""
           },
           "bgcolor": "white",
           "radialaxis": {
            "gridcolor": "#EBF0F8",
            "linecolor": "#EBF0F8",
            "ticks": ""
           }
          },
          "scene": {
           "xaxis": {
            "backgroundcolor": "white",
            "gridcolor": "#DFE8F3",
            "gridwidth": 2,
            "linecolor": "#EBF0F8",
            "showbackground": true,
            "ticks": "",
            "zerolinecolor": "#EBF0F8"
           },
           "yaxis": {
            "backgroundcolor": "white",
            "gridcolor": "#DFE8F3",
            "gridwidth": 2,
            "linecolor": "#EBF0F8",
            "showbackground": true,
            "ticks": "",
            "zerolinecolor": "#EBF0F8"
           },
           "zaxis": {
            "backgroundcolor": "white",
            "gridcolor": "#DFE8F3",
            "gridwidth": 2,
            "linecolor": "#EBF0F8",
            "showbackground": true,
            "ticks": "",
            "zerolinecolor": "#EBF0F8"
           }
          },
          "shapedefaults": {
           "line": {
            "color": "#2a3f5f"
           }
          },
          "ternary": {
           "aaxis": {
            "gridcolor": "#DFE8F3",
            "linecolor": "#A2B1C6",
            "ticks": ""
           },
           "baxis": {
            "gridcolor": "#DFE8F3",
            "linecolor": "#A2B1C6",
            "ticks": ""
           },
           "bgcolor": "white",
           "caxis": {
            "gridcolor": "#DFE8F3",
            "linecolor": "#A2B1C6",
            "ticks": ""
           }
          },
          "title": {
           "x": 0.05
          },
          "xaxis": {
           "automargin": true,
           "gridcolor": "#EBF0F8",
           "linecolor": "#EBF0F8",
           "ticks": "",
           "title": {
            "standoff": 15
           },
           "zerolinecolor": "#EBF0F8",
           "zerolinewidth": 2
          },
          "yaxis": {
           "automargin": true,
           "gridcolor": "#EBF0F8",
           "linecolor": "#EBF0F8",
           "ticks": "",
           "title": {
            "standoff": 15
           },
           "zerolinecolor": "#EBF0F8",
           "zerolinewidth": 2
          }
         }
        },
        "xaxis": {
         "anchor": "y",
         "domain": [
          0,
          0.94
         ]
        },
        "yaxis": {
         "anchor": "x",
         "color": "#636efa",
         "domain": [
          0,
          1
         ],
         "tickformat": ".0%",
         "title": {
          "font": {
           "color": "#636efa"
          },
          "text": "<b>Cumulative Return</b>"
         }
        },
        "yaxis2": {
         "anchor": "x",
         "color": "#EF553B",
         "overlaying": "y",
         "side": "right",
         "tickformat": ".0%",
         "title": {
          "font": {
           "color": "#EF553B"
          },
          "text": "<b>Drawdown</b>"
         }
        }
       }
      }
     },
     "metadata": {},
     "output_type": "display_data"
    }
   ],
   "source": [
    "\n",
    "\n",
    "cum_max = cum_ret.expanding().max()\n",
    "drawdown = cum_ret/cum_max - 1\n",
    "\n",
    "trace2 = go.Scatter(\n",
    "    x = drawdown.index.to_list(),\n",
    "    y = drawdown,\n",
    "    mode=\"lines\",\n",
    "   hovertemplate=\"%{x}<br>drawdown = %{y:.2%}<extra></extra>\"\n",
    ")\n",
    "\n",
    "fig = make_subplots(specs=[[{\"secondary_y\": True}]])\n",
    "fig.add_trace(trace1, secondary_y=False)\n",
    "fig.add_trace(trace2, secondary_y=True)\n",
    "\n",
    "plotly_template = pio.templates[\"plotly_white\"]\n",
    "colors = plotly_template.layout.colorway\n",
    "\n",
    "fig.update_yaxes(\n",
    "    title_text=\"<b>Cumulative Return</b>\", \n",
    "    title_font=dict(color=colors[0]), \n",
    "    color=colors[0], \n",
    "    tickformat=\".0%\", \n",
    "    secondary_y=False\n",
    ")\n",
    "fig.update_yaxes(\n",
    "    title_text=\"<b>Drawdown</b>\", \n",
    "    title_font=dict(color=colors[1]), \n",
    "    color=colors[1], \n",
    "    tickformat=\".0%\", \n",
    "    secondary_y=True\n",
    ")\n",
    "\n",
    "fig.update_layout(\n",
    "    template=\"plotly_white\",\n",
    "    font_size=16,\n",
    "    showlegend=False,\n",
    ")\n",
    "\n",
    "fig.write_image(\"cqa_figures/drawdown.jpeg\")\n",
    "fig.show()"
   ]
  },
  {
   "attachments": {},
   "cell_type": "markdown",
   "id": "3a585646",
   "metadata": {},
   "source": [
    "### Compare to S&P 500 (SPY)"
   ]
  },
  {
   "cell_type": "code",
   "execution_count": 103,
   "id": "87fb189c",
   "metadata": {},
   "outputs": [
    {
     "name": "stdout",
     "output_type": "stream",
     "text": [
      "[*********************100%***********************]  1 of 1 completed\n"
     ]
    },
    {
     "data": {
      "application/vnd.plotly.v1+json": {
       "config": {
        "plotlyServerURL": "https://plot.ly"
       },
       "data": [
        {
         "hovertemplate": "%{x}<br>total=%{y:.2%}<extra></extra>",
         "name": "Total return",
         "type": "scatter",
         "x": [
          "2022-11-04",
          "2022-11-07",
          "2022-11-08",
          "2022-11-09",
          "2022-11-10",
          "2022-11-11",
          "2022-11-14",
          "2022-11-15",
          "2022-11-16",
          "2022-11-17",
          "2022-11-18",
          "2022-11-21",
          "2022-11-22",
          "2022-11-23",
          "2022-11-25",
          "2022-11-28",
          "2022-11-29",
          "2022-11-30",
          "2022-12-01",
          "2022-12-02",
          "2022-12-05",
          "2022-12-06",
          "2022-12-07",
          "2022-12-08",
          "2022-12-09",
          "2022-12-12",
          "2022-12-13",
          "2022-12-14",
          "2022-12-15",
          "2022-12-16",
          "2022-12-19",
          "2022-12-20",
          "2022-12-21",
          "2022-12-22",
          "2022-12-23",
          "2022-12-27",
          "2022-12-28",
          "2022-12-29",
          "2022-12-30",
          "2023-01-03",
          "2023-01-04",
          "2023-01-05",
          "2023-01-06",
          "2023-01-09",
          "2023-01-10",
          "2023-01-11",
          "2023-01-12",
          "2023-01-13",
          "2023-01-17",
          "2023-01-18",
          "2023-01-19",
          "2023-01-20",
          "2023-01-23",
          "2023-01-24",
          "2023-01-25",
          "2023-01-26",
          "2023-01-27",
          "2023-01-30",
          "2023-01-31",
          "2023-02-01",
          "2023-02-02",
          "2023-02-03",
          "2023-02-06",
          "2023-02-07",
          "2023-02-08",
          "2023-02-09",
          "2023-02-10",
          "2023-02-13",
          "2023-02-14",
          "2023-02-15",
          "2023-02-16",
          "2023-02-17",
          "2023-02-21",
          "2023-02-22",
          "2023-02-23",
          "2023-02-24",
          "2023-02-27",
          "2023-02-28",
          "2023-03-01",
          "2023-03-02",
          "2023-03-03",
          "2023-03-06",
          "2023-03-07",
          "2023-03-08",
          "2023-03-09",
          "2023-03-10",
          "2023-03-13",
          "2023-03-14",
          "2023-03-15",
          "2023-03-16",
          "2023-03-17",
          "2023-03-20",
          "2023-03-21",
          "2023-03-22",
          "2023-03-23",
          "2023-03-24"
         ],
         "y": [
          null,
          0.03273220603116367,
          0.012258638429798019,
          0.034976405842757075,
          0.05337029294067763,
          0.025873630916880552,
          0.02684085474356568,
          0.05934450492257737,
          0.042675991228634746,
          0.07008526905966894,
          0.04793651647213304,
          -0.011907094512787264,
          -0.02895950728522101,
          0.0035745472365131814,
          -0.01668485629279981,
          -0.01624585890890029,
          -0.010231740443306325,
          0.018823059892381977,
          0.06243647278834841,
          0.009731412309155418,
          0.015448679108892804,
          0.014487758235764314,
          0.012334450746967818,
          0.09873931850938145,
          -0.005750549975842345,
          0.008121143307854073,
          0.022477401609199754,
          0.0795419571365985,
          0.020718017580663828,
          0.045693045403394805,
          0.010316365199716016,
          0.0065229384418539205,
          0.020741123752285873,
          0.0002248148433303676,
          0.020541963532512364,
          0.03117632847096874,
          0.030614681281428746,
          0.04005411090892985,
          0.04298068139154654,
          0.08048103964237097,
          0.06998582747678705,
          0.11881703042402836,
          0.07868890719569444,
          0.08232008270306079,
          0.09628644799846775,
          0.09319371122293685,
          0.07919627790907291,
          0.13913264999628105,
          0.12223984739364258,
          0.127595646803629,
          0.12628232369295778,
          0.08632364050564667,
          0.11351039793898754,
          0.1178531961735394,
          0.15107157666000615,
          0.13442193416958825,
          0.16139720723074258,
          0.15486781337484024,
          0.11823367698083853,
          0.13114830135487,
          0.18178414719445324,
          0.17247132543259958,
          0.15413454324520326,
          0.1328290654177775,
          0.12938776921465922,
          0.19387557428412916,
          0.059108320356240585,
          0.1586620572972386,
          0.13823212049048617,
          0.11058939635967624,
          0.12827324272552132,
          0.1278653090425521,
          0.10243990051478069,
          0.10736130435336033,
          0.1740996323790187,
          0.12496997795590103,
          0.18117542002339881,
          0.08565699953558292,
          0.13019819222312368,
          0.09900178708479945,
          0.11020886274224018,
          0.0787905658981396,
          0.09438088696894287,
          0.09631105739174584,
          0.176936822088813,
          0.10674773601055221,
          0.11724972089667496,
          0.11128688144938326,
          0.11229541849671265,
          0.15081250203438024,
          0.10035760695940499,
          0.10850782637547662,
          0.07236701525297073,
          0.11125531133094824,
          0.11802917702480831,
          0.11038015430384207
         ]
        },
        {
         "hovertemplate": "%{x}<br>spy=%{y:.2%}<extra></extra>",
         "name": "S&P 500 part of return",
         "type": "scatter",
         "x": [
          "2022-11-04",
          "2022-11-07",
          "2022-11-08",
          "2022-11-09",
          "2022-11-10",
          "2022-11-11",
          "2022-11-14",
          "2022-11-15",
          "2022-11-16",
          "2022-11-17",
          "2022-11-18",
          "2022-11-21",
          "2022-11-22",
          "2022-11-23",
          "2022-11-25",
          "2022-11-28",
          "2022-11-29",
          "2022-11-30",
          "2022-12-01",
          "2022-12-02",
          "2022-12-05",
          "2022-12-06",
          "2022-12-07",
          "2022-12-08",
          "2022-12-09",
          "2022-12-12",
          "2022-12-13",
          "2022-12-14",
          "2022-12-15",
          "2022-12-16",
          "2022-12-19",
          "2022-12-20",
          "2022-12-21",
          "2022-12-22",
          "2022-12-23",
          "2022-12-27",
          "2022-12-28",
          "2022-12-29",
          "2022-12-30",
          "2023-01-03",
          "2023-01-04",
          "2023-01-05",
          "2023-01-06",
          "2023-01-09",
          "2023-01-10",
          "2023-01-11",
          "2023-01-12",
          "2023-01-13",
          "2023-01-17",
          "2023-01-18",
          "2023-01-19",
          "2023-01-20",
          "2023-01-23",
          "2023-01-24",
          "2023-01-25",
          "2023-01-26",
          "2023-01-27",
          "2023-01-30",
          "2023-01-31",
          "2023-02-01",
          "2023-02-02",
          "2023-02-03",
          "2023-02-06",
          "2023-02-07",
          "2023-02-08",
          "2023-02-09",
          "2023-02-10",
          "2023-02-13",
          "2023-02-14",
          "2023-02-15",
          "2023-02-16",
          "2023-02-17",
          "2023-02-21",
          "2023-02-22",
          "2023-02-23",
          "2023-02-24",
          "2023-02-27",
          "2023-02-28",
          "2023-03-01",
          "2023-03-02",
          "2023-03-03",
          "2023-03-06",
          "2023-03-07",
          "2023-03-08",
          "2023-03-09",
          "2023-03-10",
          "2023-03-13",
          "2023-03-14",
          "2023-03-15",
          "2023-03-16",
          "2023-03-17",
          "2023-03-20",
          "2023-03-21",
          "2023-03-22",
          "2023-03-23",
          "2023-03-24"
         ],
         "y": [
          0.004301726727107269,
          0.007172939019356006,
          0.008797034062905773,
          0.002585457805966085,
          0.019052264291408605,
          0.022000019941583515,
          0.019401648583557973,
          0.022000202142288705,
          0.0196700043353788,
          0.018737521406729574,
          0.0201199565205612,
          0.01901135323471692,
          0.023109775796837484,
          0.025036664205423165,
          0.02496813635530848,
          0.02007991654407082,
          0.019556300252707715,
          0.029155102528636512,
          0.028928764068951063,
          0.028573980971133617,
          0.023043838415632623,
          0.01863635872831093,
          0.01811842979037004,
          0.02050221085185333,
          0.018223806192732672,
          0.022611248493493274,
          0.024924850059012904,
          0.02296637409663771,
          0.015487503843857997,
          0.01190431868675268,
          0.009339806039642573,
          0.009752599117853533,
          0.014265066818326844,
          0.009940464240356883,
          0.011676773445855826,
          0.010484397604427098,
          0.006731081676198736,
          0.01214712592220546,
          0.011350287975839812,
          0.010077795018876401,
          0.012408414042713867,
          0.008954910149511885,
          0.01587007856742062,
          0.015697973545965693,
          0.017826824898587335,
          0.02167433302513122,
          0.022786036605398907,
          0.023971934394248606,
          0.023411305526073845,
          0.018582232831241496,
          0.01636605745925901,
          0.022024903281592678,
          0.025689938519565914,
          0.02536090617080755,
          0.025475780094489364,
          0.02884419377949632,
          0.029550718847582313,
          0.025689990529206508,
          0.030197319101229247,
          0.03346959966763907,
          0.037965913021658304,
          0.03466855410652436,
          0.03277870913391001,
          0.03681568658333867,
          0.033427264662757805,
          0.03074965666249252,
          0.03146858271963504,
          0.03508745590869933,
          0.0349451053360188,
          0.03594957373349583,
          0.031686502374337344,
          0.030916178462118804,
          0.024735140750332674,
          0.02431306181479065,
          0.02594154646692859,
          0.022666041692793515,
          0.023707032712687814,
          0.022576212509952454,
          0.021403891944008935,
          0.02377805630330676,
          0.0286853053527778,
          0.02889830670887883,
          0.02418455342383008,
          0.024684147439614446,
          0.01903386560740561,
          0.014639205271468558,
          0.014206987437588081,
          0.019217587155016203,
          0.017312403524154085,
          0.0226469707622714,
          0.01907319281914721,
          0.022001862978654696,
          0.026012571581900845,
          0.020785299401482993,
          0.021610066163261443,
          0.02212259501380176
         ]
        },
        {
         "hovertemplate": "%{x}<br>active=%{y:.2%}<extra></extra>",
         "name": "Active part of return",
         "type": "scatter",
         "x": [
          "2022-11-04",
          "2022-11-07",
          "2022-11-08",
          "2022-11-09",
          "2022-11-10",
          "2022-11-11",
          "2022-11-14",
          "2022-11-15",
          "2022-11-16",
          "2022-11-17",
          "2022-11-18",
          "2022-11-21",
          "2022-11-22",
          "2022-11-23",
          "2022-11-25",
          "2022-11-28",
          "2022-11-29",
          "2022-11-30",
          "2022-12-01",
          "2022-12-02",
          "2022-12-05",
          "2022-12-06",
          "2022-12-07",
          "2022-12-08",
          "2022-12-09",
          "2022-12-12",
          "2022-12-13",
          "2022-12-14",
          "2022-12-15",
          "2022-12-16",
          "2022-12-19",
          "2022-12-20",
          "2022-12-21",
          "2022-12-22",
          "2022-12-23",
          "2022-12-27",
          "2022-12-28",
          "2022-12-29",
          "2022-12-30",
          "2023-01-03",
          "2023-01-04",
          "2023-01-05",
          "2023-01-06",
          "2023-01-09",
          "2023-01-10",
          "2023-01-11",
          "2023-01-12",
          "2023-01-13",
          "2023-01-17",
          "2023-01-18",
          "2023-01-19",
          "2023-01-20",
          "2023-01-23",
          "2023-01-24",
          "2023-01-25",
          "2023-01-26",
          "2023-01-27",
          "2023-01-30",
          "2023-01-31",
          "2023-02-01",
          "2023-02-02",
          "2023-02-03",
          "2023-02-06",
          "2023-02-07",
          "2023-02-08",
          "2023-02-09",
          "2023-02-10",
          "2023-02-13",
          "2023-02-14",
          "2023-02-15",
          "2023-02-16",
          "2023-02-17",
          "2023-02-21",
          "2023-02-22",
          "2023-02-23",
          "2023-02-24",
          "2023-02-27",
          "2023-02-28",
          "2023-03-01",
          "2023-03-02",
          "2023-03-03",
          "2023-03-06",
          "2023-03-07",
          "2023-03-08",
          "2023-03-09",
          "2023-03-10",
          "2023-03-13",
          "2023-03-14",
          "2023-03-15",
          "2023-03-16",
          "2023-03-17",
          "2023-03-20",
          "2023-03-21",
          "2023-03-22",
          "2023-03-23",
          "2023-03-24"
         ],
         "y": [
          null,
          0.029873292005788477,
          0.007795701401410282,
          0.03661871931778227,
          0.03801601365194407,
          0.007917541181506671,
          0.011430403012182566,
          0.04086801622387792,
          0.02686344244643668,
          0.05479611021229136,
          0.03153244754644002,
          -0.026253384681997893,
          -0.0469745801639847,
          -0.01683900250252579,
          -0.03662058444486527,
          -0.03159599290992965,
          -0.02517862593627518,
          -0.005740230735120644,
          0.03704034965908165,
          -0.014047286790449531,
          -0.003163670223977455,
          0.0001875942435041189,
          -0.0014268117364122368,
          0.08146548479380122,
          -0.018967132747618964,
          -0.009507025845124417,
          0.002357260863858679,
          0.060214262252660244,
          0.01019467160883858,
          0.03847672238097699,
          0.0059760327218638665,
          0.0017874851909844836,
          0.011461904763258701,
          -0.004555246673283442,
          0.013953418725247468,
          0.025714188102054836,
          0.02896540100764633,
          0.03285406367737176,
          0.03657351420568533,
          0.07514773195507463,
          0.062223565499158084,
          0.114323952384493,
          0.06671963437449602,
          0.07049123765340637,
          0.08206126711287953,
          0.0749183389716408,
          0.059985267138726206,
          0.11762566918403383,
          0.10166370968880756,
          0.11211962593980163,
          0.11324401682478191,
          0.06754967619521945,
          0.09043829962847538,
          0.09504091750431987,
          0.12745872275422276,
          0.10744722734852052,
          0.1330205692023625,
          0.13089944078978255,
          0.09005595234363817,
          0.09918273524678534,
          0.14360543142912663,
          0.13822641899087995,
          0.12250420329113343,
          0.09739492478282075,
          0.09764767123516882,
          0.16316712630481,
          0.031055023885611766,
          0.12435439349359667,
          0.10468400850136073,
          0.07678386893104294,
          0.0983605419290492,
          0.09878353042038612,
          0.08060165915801365,
          0.08587066470438431,
          0.14958744641094923,
          0.10515375981082564,
          0.1592441925908854,
          0.06677982936035654,
          0.11176954666543604,
          0.0784976085514082,
          0.08432605788306224,
          0.05341570767625492,
          0.07346539608713232,
          0.07483504459484847,
          0.15980822594033484,
          0.0956423998491649,
          0.10650572936278047,
          0.09513363787525675,
          0.09817460575115988,
          0.13044411599301364,
          0.0848327185511526,
          0.08975029334160833,
          0.049944458086609966,
          0.09336882203216068,
          0.09915024499323155,
          0.09107895314893066
         ]
        }
       ],
       "layout": {
        "font": {
         "size": 16
        },
        "height": 600,
        "legend": {
         "x": 0.01,
         "y": 0.99
        },
        "template": {
         "data": {
          "bar": [
           {
            "error_x": {
             "color": "#2a3f5f"
            },
            "error_y": {
             "color": "#2a3f5f"
            },
            "marker": {
             "line": {
              "color": "white",
              "width": 0.5
             },
             "pattern": {
              "fillmode": "overlay",
              "size": 10,
              "solidity": 0.2
             }
            },
            "type": "bar"
           }
          ],
          "barpolar": [
           {
            "marker": {
             "line": {
              "color": "white",
              "width": 0.5
             },
             "pattern": {
              "fillmode": "overlay",
              "size": 10,
              "solidity": 0.2
             }
            },
            "type": "barpolar"
           }
          ],
          "carpet": [
           {
            "aaxis": {
             "endlinecolor": "#2a3f5f",
             "gridcolor": "#C8D4E3",
             "linecolor": "#C8D4E3",
             "minorgridcolor": "#C8D4E3",
             "startlinecolor": "#2a3f5f"
            },
            "baxis": {
             "endlinecolor": "#2a3f5f",
             "gridcolor": "#C8D4E3",
             "linecolor": "#C8D4E3",
             "minorgridcolor": "#C8D4E3",
             "startlinecolor": "#2a3f5f"
            },
            "type": "carpet"
           }
          ],
          "choropleth": [
           {
            "colorbar": {
             "outlinewidth": 0,
             "ticks": ""
            },
            "type": "choropleth"
           }
          ],
          "contour": [
           {
            "colorbar": {
             "outlinewidth": 0,
             "ticks": ""
            },
            "colorscale": [
             [
              0,
              "#0d0887"
             ],
             [
              0.1111111111111111,
              "#46039f"
             ],
             [
              0.2222222222222222,
              "#7201a8"
             ],
             [
              0.3333333333333333,
              "#9c179e"
             ],
             [
              0.4444444444444444,
              "#bd3786"
             ],
             [
              0.5555555555555556,
              "#d8576b"
             ],
             [
              0.6666666666666666,
              "#ed7953"
             ],
             [
              0.7777777777777778,
              "#fb9f3a"
             ],
             [
              0.8888888888888888,
              "#fdca26"
             ],
             [
              1,
              "#f0f921"
             ]
            ],
            "type": "contour"
           }
          ],
          "contourcarpet": [
           {
            "colorbar": {
             "outlinewidth": 0,
             "ticks": ""
            },
            "type": "contourcarpet"
           }
          ],
          "heatmap": [
           {
            "colorbar": {
             "outlinewidth": 0,
             "ticks": ""
            },
            "colorscale": [
             [
              0,
              "#0d0887"
             ],
             [
              0.1111111111111111,
              "#46039f"
             ],
             [
              0.2222222222222222,
              "#7201a8"
             ],
             [
              0.3333333333333333,
              "#9c179e"
             ],
             [
              0.4444444444444444,
              "#bd3786"
             ],
             [
              0.5555555555555556,
              "#d8576b"
             ],
             [
              0.6666666666666666,
              "#ed7953"
             ],
             [
              0.7777777777777778,
              "#fb9f3a"
             ],
             [
              0.8888888888888888,
              "#fdca26"
             ],
             [
              1,
              "#f0f921"
             ]
            ],
            "type": "heatmap"
           }
          ],
          "heatmapgl": [
           {
            "colorbar": {
             "outlinewidth": 0,
             "ticks": ""
            },
            "colorscale": [
             [
              0,
              "#0d0887"
             ],
             [
              0.1111111111111111,
              "#46039f"
             ],
             [
              0.2222222222222222,
              "#7201a8"
             ],
             [
              0.3333333333333333,
              "#9c179e"
             ],
             [
              0.4444444444444444,
              "#bd3786"
             ],
             [
              0.5555555555555556,
              "#d8576b"
             ],
             [
              0.6666666666666666,
              "#ed7953"
             ],
             [
              0.7777777777777778,
              "#fb9f3a"
             ],
             [
              0.8888888888888888,
              "#fdca26"
             ],
             [
              1,
              "#f0f921"
             ]
            ],
            "type": "heatmapgl"
           }
          ],
          "histogram": [
           {
            "marker": {
             "pattern": {
              "fillmode": "overlay",
              "size": 10,
              "solidity": 0.2
             }
            },
            "type": "histogram"
           }
          ],
          "histogram2d": [
           {
            "colorbar": {
             "outlinewidth": 0,
             "ticks": ""
            },
            "colorscale": [
             [
              0,
              "#0d0887"
             ],
             [
              0.1111111111111111,
              "#46039f"
             ],
             [
              0.2222222222222222,
              "#7201a8"
             ],
             [
              0.3333333333333333,
              "#9c179e"
             ],
             [
              0.4444444444444444,
              "#bd3786"
             ],
             [
              0.5555555555555556,
              "#d8576b"
             ],
             [
              0.6666666666666666,
              "#ed7953"
             ],
             [
              0.7777777777777778,
              "#fb9f3a"
             ],
             [
              0.8888888888888888,
              "#fdca26"
             ],
             [
              1,
              "#f0f921"
             ]
            ],
            "type": "histogram2d"
           }
          ],
          "histogram2dcontour": [
           {
            "colorbar": {
             "outlinewidth": 0,
             "ticks": ""
            },
            "colorscale": [
             [
              0,
              "#0d0887"
             ],
             [
              0.1111111111111111,
              "#46039f"
             ],
             [
              0.2222222222222222,
              "#7201a8"
             ],
             [
              0.3333333333333333,
              "#9c179e"
             ],
             [
              0.4444444444444444,
              "#bd3786"
             ],
             [
              0.5555555555555556,
              "#d8576b"
             ],
             [
              0.6666666666666666,
              "#ed7953"
             ],
             [
              0.7777777777777778,
              "#fb9f3a"
             ],
             [
              0.8888888888888888,
              "#fdca26"
             ],
             [
              1,
              "#f0f921"
             ]
            ],
            "type": "histogram2dcontour"
           }
          ],
          "mesh3d": [
           {
            "colorbar": {
             "outlinewidth": 0,
             "ticks": ""
            },
            "type": "mesh3d"
           }
          ],
          "parcoords": [
           {
            "line": {
             "colorbar": {
              "outlinewidth": 0,
              "ticks": ""
             }
            },
            "type": "parcoords"
           }
          ],
          "pie": [
           {
            "automargin": true,
            "type": "pie"
           }
          ],
          "scatter": [
           {
            "fillpattern": {
             "fillmode": "overlay",
             "size": 10,
             "solidity": 0.2
            },
            "type": "scatter"
           }
          ],
          "scatter3d": [
           {
            "line": {
             "colorbar": {
              "outlinewidth": 0,
              "ticks": ""
             }
            },
            "marker": {
             "colorbar": {
              "outlinewidth": 0,
              "ticks": ""
             }
            },
            "type": "scatter3d"
           }
          ],
          "scattercarpet": [
           {
            "marker": {
             "colorbar": {
              "outlinewidth": 0,
              "ticks": ""
             }
            },
            "type": "scattercarpet"
           }
          ],
          "scattergeo": [
           {
            "marker": {
             "colorbar": {
              "outlinewidth": 0,
              "ticks": ""
             }
            },
            "type": "scattergeo"
           }
          ],
          "scattergl": [
           {
            "marker": {
             "colorbar": {
              "outlinewidth": 0,
              "ticks": ""
             }
            },
            "type": "scattergl"
           }
          ],
          "scattermapbox": [
           {
            "marker": {
             "colorbar": {
              "outlinewidth": 0,
              "ticks": ""
             }
            },
            "type": "scattermapbox"
           }
          ],
          "scatterpolar": [
           {
            "marker": {
             "colorbar": {
              "outlinewidth": 0,
              "ticks": ""
             }
            },
            "type": "scatterpolar"
           }
          ],
          "scatterpolargl": [
           {
            "marker": {
             "colorbar": {
              "outlinewidth": 0,
              "ticks": ""
             }
            },
            "type": "scatterpolargl"
           }
          ],
          "scatterternary": [
           {
            "marker": {
             "colorbar": {
              "outlinewidth": 0,
              "ticks": ""
             }
            },
            "type": "scatterternary"
           }
          ],
          "surface": [
           {
            "colorbar": {
             "outlinewidth": 0,
             "ticks": ""
            },
            "colorscale": [
             [
              0,
              "#0d0887"
             ],
             [
              0.1111111111111111,
              "#46039f"
             ],
             [
              0.2222222222222222,
              "#7201a8"
             ],
             [
              0.3333333333333333,
              "#9c179e"
             ],
             [
              0.4444444444444444,
              "#bd3786"
             ],
             [
              0.5555555555555556,
              "#d8576b"
             ],
             [
              0.6666666666666666,
              "#ed7953"
             ],
             [
              0.7777777777777778,
              "#fb9f3a"
             ],
             [
              0.8888888888888888,
              "#fdca26"
             ],
             [
              1,
              "#f0f921"
             ]
            ],
            "type": "surface"
           }
          ],
          "table": [
           {
            "cells": {
             "fill": {
              "color": "#EBF0F8"
             },
             "line": {
              "color": "white"
             }
            },
            "header": {
             "fill": {
              "color": "#C8D4E3"
             },
             "line": {
              "color": "white"
             }
            },
            "type": "table"
           }
          ]
         },
         "layout": {
          "annotationdefaults": {
           "arrowcolor": "#2a3f5f",
           "arrowhead": 0,
           "arrowwidth": 1
          },
          "autotypenumbers": "strict",
          "coloraxis": {
           "colorbar": {
            "outlinewidth": 0,
            "ticks": ""
           }
          },
          "colorscale": {
           "diverging": [
            [
             0,
             "#8e0152"
            ],
            [
             0.1,
             "#c51b7d"
            ],
            [
             0.2,
             "#de77ae"
            ],
            [
             0.3,
             "#f1b6da"
            ],
            [
             0.4,
             "#fde0ef"
            ],
            [
             0.5,
             "#f7f7f7"
            ],
            [
             0.6,
             "#e6f5d0"
            ],
            [
             0.7,
             "#b8e186"
            ],
            [
             0.8,
             "#7fbc41"
            ],
            [
             0.9,
             "#4d9221"
            ],
            [
             1,
             "#276419"
            ]
           ],
           "sequential": [
            [
             0,
             "#0d0887"
            ],
            [
             0.1111111111111111,
             "#46039f"
            ],
            [
             0.2222222222222222,
             "#7201a8"
            ],
            [
             0.3333333333333333,
             "#9c179e"
            ],
            [
             0.4444444444444444,
             "#bd3786"
            ],
            [
             0.5555555555555556,
             "#d8576b"
            ],
            [
             0.6666666666666666,
             "#ed7953"
            ],
            [
             0.7777777777777778,
             "#fb9f3a"
            ],
            [
             0.8888888888888888,
             "#fdca26"
            ],
            [
             1,
             "#f0f921"
            ]
           ],
           "sequentialminus": [
            [
             0,
             "#0d0887"
            ],
            [
             0.1111111111111111,
             "#46039f"
            ],
            [
             0.2222222222222222,
             "#7201a8"
            ],
            [
             0.3333333333333333,
             "#9c179e"
            ],
            [
             0.4444444444444444,
             "#bd3786"
            ],
            [
             0.5555555555555556,
             "#d8576b"
            ],
            [
             0.6666666666666666,
             "#ed7953"
            ],
            [
             0.7777777777777778,
             "#fb9f3a"
            ],
            [
             0.8888888888888888,
             "#fdca26"
            ],
            [
             1,
             "#f0f921"
            ]
           ]
          },
          "colorway": [
           "#636efa",
           "#EF553B",
           "#00cc96",
           "#ab63fa",
           "#FFA15A",
           "#19d3f3",
           "#FF6692",
           "#B6E880",
           "#FF97FF",
           "#FECB52"
          ],
          "font": {
           "color": "#2a3f5f"
          },
          "geo": {
           "bgcolor": "white",
           "lakecolor": "white",
           "landcolor": "white",
           "showlakes": true,
           "showland": true,
           "subunitcolor": "#C8D4E3"
          },
          "hoverlabel": {
           "align": "left"
          },
          "hovermode": "closest",
          "mapbox": {
           "style": "light"
          },
          "paper_bgcolor": "white",
          "plot_bgcolor": "white",
          "polar": {
           "angularaxis": {
            "gridcolor": "#EBF0F8",
            "linecolor": "#EBF0F8",
            "ticks": ""
           },
           "bgcolor": "white",
           "radialaxis": {
            "gridcolor": "#EBF0F8",
            "linecolor": "#EBF0F8",
            "ticks": ""
           }
          },
          "scene": {
           "xaxis": {
            "backgroundcolor": "white",
            "gridcolor": "#DFE8F3",
            "gridwidth": 2,
            "linecolor": "#EBF0F8",
            "showbackground": true,
            "ticks": "",
            "zerolinecolor": "#EBF0F8"
           },
           "yaxis": {
            "backgroundcolor": "white",
            "gridcolor": "#DFE8F3",
            "gridwidth": 2,
            "linecolor": "#EBF0F8",
            "showbackground": true,
            "ticks": "",
            "zerolinecolor": "#EBF0F8"
           },
           "zaxis": {
            "backgroundcolor": "white",
            "gridcolor": "#DFE8F3",
            "gridwidth": 2,
            "linecolor": "#EBF0F8",
            "showbackground": true,
            "ticks": "",
            "zerolinecolor": "#EBF0F8"
           }
          },
          "shapedefaults": {
           "line": {
            "color": "#2a3f5f"
           }
          },
          "ternary": {
           "aaxis": {
            "gridcolor": "#DFE8F3",
            "linecolor": "#A2B1C6",
            "ticks": ""
           },
           "baxis": {
            "gridcolor": "#DFE8F3",
            "linecolor": "#A2B1C6",
            "ticks": ""
           },
           "bgcolor": "white",
           "caxis": {
            "gridcolor": "#DFE8F3",
            "linecolor": "#A2B1C6",
            "ticks": ""
           }
          },
          "title": {
           "x": 0.05
          },
          "xaxis": {
           "automargin": true,
           "gridcolor": "#EBF0F8",
           "linecolor": "#EBF0F8",
           "ticks": "",
           "title": {
            "standoff": 15
           },
           "zerolinecolor": "#EBF0F8",
           "zerolinewidth": 2
          },
          "yaxis": {
           "automargin": true,
           "gridcolor": "#EBF0F8",
           "linecolor": "#EBF0F8",
           "ticks": "",
           "title": {
            "standoff": 15
           },
           "zerolinecolor": "#EBF0F8",
           "zerolinewidth": 2
          }
         }
        },
        "width": 1000,
        "xaxis": {
         "title": {
          "font": {
           "size": 18
          }
         }
        },
        "yaxis": {
         "tickformat": ".0%",
         "title": {
          "text": "Cumulative Return"
         }
        }
       }
      }
     },
     "metadata": {},
     "output_type": "display_data"
    }
   ],
   "source": [
    "spy = yf.download(\"SPY\", start=\"2022-11-03\")[\"Adj Close\"].pct_change().dropna()\n",
    "spy.index = [datetime.strftime(x, \"%Y-%m-%d\") for x in spy.index]\n",
    "\n",
    "rets = pd.concat((ret, spy), axis=1)\n",
    "rets.columns = [\"ret\", \"spy\"]\n",
    "\n",
    "result = smf.ols(\"ret~spy\", rets).fit()\n",
    "alpha = result.params[0]\n",
    "beta = result.params[1]\n",
    "info_ratio = alpha / np.sqrt(result.mse_resid)\n",
    "\n",
    "spy = beta*spy\n",
    "active = ret - spy\n",
    "\n",
    "trace1 = go.Scatter(\n",
    "    x = ret.index.to_list(),\n",
    "    y = (1+ret).cumprod()-1,\n",
    "    name = \"Total return\",\n",
    "    hovertemplate=\"%{x}<br>total=%{y:.2%}<extra></extra>\"\n",
    ")\n",
    "\n",
    "trace2 = go.Scatter(\n",
    "    x = active.index.to_list(),\n",
    "    y = (1+active).cumprod()-1,\n",
    "    name = \"Active part of return\",\n",
    "    hovertemplate=\"%{x}<br>active=%{y:.2%}<extra></extra>\"\n",
    ")\n",
    "trace3 = go.Scatter(\n",
    "    x = spy.index.to_list(),\n",
    "    y = (1+spy).cumprod()-1,\n",
    "    name = \"S&P 500 part of return\",\n",
    "    hovertemplate=\"%{x}<br>spy=%{y:.2%}<extra></extra>\"\n",
    ")\n",
    "fig = go.Figure()\n",
    "for trace in [trace1, trace3, trace2]:\n",
    "    fig.add_trace(trace)\n",
    "\n",
    "fig.update_layout(\n",
    "    yaxis_title=\"Cumulative Return\",\n",
    "    xaxis_title_font = {\"size\":18},\n",
    "    template=\"plotly_white\",\n",
    "    yaxis_tickformat=\".0%\",\n",
    "    height=600,  \n",
    "    width=1000,\n",
    "    legend=dict(\n",
    "      x = 0.01,\n",
    "      y = 0.99\n",
    "    ),\n",
    "    font_size=16\n",
    ")\n",
    "fig.write_image(\"cqa_figures/spy.jpeg\")\n",
    "fig.show()"
   ]
  },
  {
   "cell_type": "code",
   "execution_count": 104,
   "id": "dbde94e3",
   "metadata": {},
   "outputs": [
    {
     "name": "stdout",
     "output_type": "stream",
     "text": [
      "annualized alpha with respect to SPY = 38.5%\n",
      "beta with respect to SPY = 0.30\n",
      "annualized info ratio with respect to SPY = 69.0%\n"
     ]
    }
   ],
   "source": [
    "print(f\"annualized alpha with respect to SPY = {252*result.params[0]:.1%}\")\n",
    "print(f\"beta with respect to SPY = {result.params[1]:.2f}\")\n",
    "print(f\"annualized info ratio with respect to SPY = {np.sqrt(252)* alpha / np.sqrt(result.mse_resid):.1%}\")\n"
   ]
  },
  {
   "attachments": {},
   "cell_type": "markdown",
   "id": "e9bec764",
   "metadata": {},
   "source": [
    "### Compare to Russell 2000 (IWM)"
   ]
  },
  {
   "cell_type": "code",
   "execution_count": 105,
   "id": "8d485758",
   "metadata": {},
   "outputs": [
    {
     "name": "stdout",
     "output_type": "stream",
     "text": [
      "[*********************100%***********************]  1 of 1 completed\n"
     ]
    },
    {
     "data": {
      "application/vnd.plotly.v1+json": {
       "config": {
        "plotlyServerURL": "https://plot.ly"
       },
       "data": [
        {
         "hovertemplate": "%{x}<br>total=%{y:.2%}<extra></extra>",
         "name": "Total return",
         "type": "scatter",
         "x": [
          "2022-11-04",
          "2022-11-07",
          "2022-11-08",
          "2022-11-09",
          "2022-11-10",
          "2022-11-11",
          "2022-11-14",
          "2022-11-15",
          "2022-11-16",
          "2022-11-17",
          "2022-11-18",
          "2022-11-21",
          "2022-11-22",
          "2022-11-23",
          "2022-11-25",
          "2022-11-28",
          "2022-11-29",
          "2022-11-30",
          "2022-12-01",
          "2022-12-02",
          "2022-12-05",
          "2022-12-06",
          "2022-12-07",
          "2022-12-08",
          "2022-12-09",
          "2022-12-12",
          "2022-12-13",
          "2022-12-14",
          "2022-12-15",
          "2022-12-16",
          "2022-12-19",
          "2022-12-20",
          "2022-12-21",
          "2022-12-22",
          "2022-12-23",
          "2022-12-27",
          "2022-12-28",
          "2022-12-29",
          "2022-12-30",
          "2023-01-03",
          "2023-01-04",
          "2023-01-05",
          "2023-01-06",
          "2023-01-09",
          "2023-01-10",
          "2023-01-11",
          "2023-01-12",
          "2023-01-13",
          "2023-01-17",
          "2023-01-18",
          "2023-01-19",
          "2023-01-20",
          "2023-01-23",
          "2023-01-24",
          "2023-01-25",
          "2023-01-26",
          "2023-01-27",
          "2023-01-30",
          "2023-01-31",
          "2023-02-01",
          "2023-02-02",
          "2023-02-03",
          "2023-02-06",
          "2023-02-07",
          "2023-02-08",
          "2023-02-09",
          "2023-02-10",
          "2023-02-13",
          "2023-02-14",
          "2023-02-15",
          "2023-02-16",
          "2023-02-17",
          "2023-02-21",
          "2023-02-22",
          "2023-02-23",
          "2023-02-24",
          "2023-02-27",
          "2023-02-28",
          "2023-03-01",
          "2023-03-02",
          "2023-03-03",
          "2023-03-06",
          "2023-03-07",
          "2023-03-08",
          "2023-03-09",
          "2023-03-10",
          "2023-03-13",
          "2023-03-14",
          "2023-03-15",
          "2023-03-16",
          "2023-03-17",
          "2023-03-20",
          "2023-03-21",
          "2023-03-22",
          "2023-03-23",
          "2023-03-24"
         ],
         "y": [
          null,
          0.03273220603116367,
          0.012258638429798019,
          0.034976405842757075,
          0.05337029294067763,
          0.025873630916880552,
          0.02684085474356568,
          0.05934450492257737,
          0.042675991228634746,
          0.07008526905966894,
          0.04793651647213304,
          -0.011907094512787264,
          -0.02895950728522101,
          0.0035745472365131814,
          -0.01668485629279981,
          -0.01624585890890029,
          -0.010231740443306325,
          0.018823059892381977,
          0.06243647278834841,
          0.009731412309155418,
          0.015448679108892804,
          0.014487758235764314,
          0.012334450746967818,
          0.09873931850938145,
          -0.005750549975842345,
          0.008121143307854073,
          0.022477401609199754,
          0.0795419571365985,
          0.020718017580663828,
          0.045693045403394805,
          0.010316365199716016,
          0.0065229384418539205,
          0.020741123752285873,
          0.0002248148433303676,
          0.020541963532512364,
          0.03117632847096874,
          0.030614681281428746,
          0.04005411090892985,
          0.04298068139154654,
          0.08048103964237097,
          0.06998582747678705,
          0.11881703042402836,
          0.07868890719569444,
          0.08232008270306079,
          0.09628644799846775,
          0.09319371122293685,
          0.07919627790907291,
          0.13913264999628105,
          0.12223984739364258,
          0.127595646803629,
          0.12628232369295778,
          0.08632364050564667,
          0.11351039793898754,
          0.1178531961735394,
          0.15107157666000615,
          0.13442193416958825,
          0.16139720723074258,
          0.15486781337484024,
          0.11823367698083853,
          0.13114830135487,
          0.18178414719445324,
          0.17247132543259958,
          0.15413454324520326,
          0.1328290654177775,
          0.12938776921465922,
          0.19387557428412916,
          0.059108320356240585,
          0.1586620572972386,
          0.13823212049048617,
          0.11058939635967624,
          0.12827324272552132,
          0.1278653090425521,
          0.10243990051478069,
          0.10736130435336033,
          0.1740996323790187,
          0.12496997795590103,
          0.18117542002339881,
          0.08565699953558292,
          0.13019819222312368,
          0.09900178708479945,
          0.11020886274224018,
          0.0787905658981396,
          0.09438088696894287,
          0.09631105739174584,
          0.176936822088813,
          0.10674773601055221,
          0.11724972089667496,
          0.11128688144938326,
          0.11229541849671265,
          0.15081250203438024,
          0.10035760695940499,
          0.10850782637547662,
          0.07236701525297073,
          0.11125531133094824,
          0.11802917702480831,
          0.11038015430384207
         ]
        },
        {
         "hovertemplate": "%{x}<br>iwm=%{y:.2%}<extra></extra>",
         "name": "Russell 2000 part of return",
         "type": "scatter",
         "x": [
          "2022-11-04",
          "2022-11-07",
          "2022-11-08",
          "2022-11-09",
          "2022-11-10",
          "2022-11-11",
          "2022-11-14",
          "2022-11-15",
          "2022-11-16",
          "2022-11-17",
          "2022-11-18",
          "2022-11-21",
          "2022-11-22",
          "2022-11-23",
          "2022-11-25",
          "2022-11-28",
          "2022-11-29",
          "2022-11-30",
          "2022-12-01",
          "2022-12-02",
          "2022-12-05",
          "2022-12-06",
          "2022-12-07",
          "2022-12-08",
          "2022-12-09",
          "2022-12-12",
          "2022-12-13",
          "2022-12-14",
          "2022-12-15",
          "2022-12-16",
          "2022-12-19",
          "2022-12-20",
          "2022-12-21",
          "2022-12-22",
          "2022-12-23",
          "2022-12-27",
          "2022-12-28",
          "2022-12-29",
          "2022-12-30",
          "2023-01-03",
          "2023-01-04",
          "2023-01-05",
          "2023-01-06",
          "2023-01-09",
          "2023-01-10",
          "2023-01-11",
          "2023-01-12",
          "2023-01-13",
          "2023-01-17",
          "2023-01-18",
          "2023-01-19",
          "2023-01-20",
          "2023-01-23",
          "2023-01-24",
          "2023-01-25",
          "2023-01-26",
          "2023-01-27",
          "2023-01-30",
          "2023-01-31",
          "2023-02-01",
          "2023-02-02",
          "2023-02-03",
          "2023-02-06",
          "2023-02-07",
          "2023-02-08",
          "2023-02-09",
          "2023-02-10",
          "2023-02-13",
          "2023-02-14",
          "2023-02-15",
          "2023-02-16",
          "2023-02-17",
          "2023-02-21",
          "2023-02-22",
          "2023-02-23",
          "2023-02-24",
          "2023-02-27",
          "2023-02-28",
          "2023-03-01",
          "2023-03-02",
          "2023-03-03",
          "2023-03-06",
          "2023-03-07",
          "2023-03-08",
          "2023-03-09",
          "2023-03-10",
          "2023-03-13",
          "2023-03-14",
          "2023-03-15",
          "2023-03-16",
          "2023-03-17",
          "2023-03-20",
          "2023-03-21",
          "2023-03-22",
          "2023-03-23",
          "2023-03-24"
         ],
         "y": [
          0.0034875102095812682,
          0.0046627347526944085,
          0.004763940956646451,
          -0.002362839489886248,
          0.01350268524623166,
          0.015649502073730837,
          0.012715433591763636,
          0.01659430478001056,
          0.011973297254158854,
          0.009546961315343161,
          0.011232897158526045,
          0.009867824623996935,
          0.012651455777587195,
          0.01333127521099331,
          0.013882576233270605,
          0.008603955261301977,
          0.00936341795481832,
          0.016512582343174653,
          0.015937973604777556,
          0.017468119122365344,
          0.010227602850360062,
          0.00623159865593359,
          0.005466452541902145,
          0.0073472562082053106,
          0.0041525630508219,
          0.00720243536012144,
          0.009357647157252957,
          0.007646866692794241,
          0.0011313566787047868,
          -0.0007971880418577992,
          -0.004290885232465125,
          -0.002930039745174029,
          0.0015089934551244522,
          -0.0018740258090512718,
          -0.0007006266227856939,
          -0.0024326389711886165,
          -0.0064347535519329035,
          0.00006762440350072119,
          -0.0006564077395622148,
          -0.0020778517648039063,
          0.001133535174943967,
          -0.0016360686340948227,
          0.004155526493465178,
          0.004593763461728573,
          0.008430936767007458,
          0.011678219344198881,
          0.016068500281594122,
          0.017791794612847633,
          0.017468501532289293,
          0.013219382840122362,
          0.01071289503366546,
          0.015015923133081088,
          0.018261103831326286,
          0.017699383233492405,
          0.01843076388448006,
          0.019988730941722155,
          0.021414158301980013,
          0.017739595358577942,
          0.024124901909526653,
          0.02828391465370328,
          0.0335151793998929,
          0.031724585333244404,
          0.027868408286679136,
          0.029838007366681962,
          0.02594752791729027,
          0.022110484137917608,
          0.02263880234100135,
          0.025817793844468584,
          0.025693947948431717,
          0.028378016438928677,
          0.025836877424560978,
          0.026566142493203992,
          0.018738976242381078,
          0.01945510826279473,
          0.021332885636071053,
          0.018865534432400244,
          0.01979200439748441,
          0.019806006279437405,
          0.020142016759470138,
          0.02077143855229724,
          0.024443530782305656,
          0.0205739029167753,
          0.017513973024601892,
          0.017640849136455028,
          0.010328728262995579,
          0.0028039008233775586,
          -0.001416309164297025,
          0.00336184331372813,
          -0.0009113233059583337,
          0.0026121351605021825,
          -0.0043791150689381775,
          -0.0010443953553894714,
          0.0037167757094036524,
          -0.0036372859257897128,
          -0.004779728025265051,
          -0.0041303680077960925
         ]
        },
        {
         "hovertemplate": "%{x}<br>active=%{y:.2%}<extra></extra>",
         "name": "Active part of return",
         "type": "scatter",
         "x": [
          "2022-11-04",
          "2022-11-07",
          "2022-11-08",
          "2022-11-09",
          "2022-11-10",
          "2022-11-11",
          "2022-11-14",
          "2022-11-15",
          "2022-11-16",
          "2022-11-17",
          "2022-11-18",
          "2022-11-21",
          "2022-11-22",
          "2022-11-23",
          "2022-11-25",
          "2022-11-28",
          "2022-11-29",
          "2022-11-30",
          "2022-12-01",
          "2022-12-02",
          "2022-12-05",
          "2022-12-06",
          "2022-12-07",
          "2022-12-08",
          "2022-12-09",
          "2022-12-12",
          "2022-12-13",
          "2022-12-14",
          "2022-12-15",
          "2022-12-16",
          "2022-12-19",
          "2022-12-20",
          "2022-12-21",
          "2022-12-22",
          "2022-12-23",
          "2022-12-27",
          "2022-12-28",
          "2022-12-29",
          "2022-12-30",
          "2023-01-03",
          "2023-01-04",
          "2023-01-05",
          "2023-01-06",
          "2023-01-09",
          "2023-01-10",
          "2023-01-11",
          "2023-01-12",
          "2023-01-13",
          "2023-01-17",
          "2023-01-18",
          "2023-01-19",
          "2023-01-20",
          "2023-01-23",
          "2023-01-24",
          "2023-01-25",
          "2023-01-26",
          "2023-01-27",
          "2023-01-30",
          "2023-01-31",
          "2023-02-01",
          "2023-02-02",
          "2023-02-03",
          "2023-02-06",
          "2023-02-07",
          "2023-02-08",
          "2023-02-09",
          "2023-02-10",
          "2023-02-13",
          "2023-02-14",
          "2023-02-15",
          "2023-02-16",
          "2023-02-17",
          "2023-02-21",
          "2023-02-22",
          "2023-02-23",
          "2023-02-24",
          "2023-02-27",
          "2023-02-28",
          "2023-03-01",
          "2023-03-02",
          "2023-03-03",
          "2023-03-06",
          "2023-03-07",
          "2023-03-08",
          "2023-03-09",
          "2023-03-10",
          "2023-03-13",
          "2023-03-14",
          "2023-03-15",
          "2023-03-16",
          "2023-03-17",
          "2023-03-20",
          "2023-03-21",
          "2023-03-22",
          "2023-03-23",
          "2023-03-24"
         ],
         "y": [
          null,
          0.031561065851384296,
          0.011006799861423167,
          0.04086753367965046,
          0.04281309779571285,
          0.01338311303156492,
          0.017266081633650954,
          0.04557035072813043,
          0.03387129018174884,
          0.0635279541912408,
          0.03973884199344613,
          -0.01823307846266553,
          -0.037882490957980575,
          -0.0062932896372387415,
          -0.026894113056741276,
          -0.021393350037231085,
          -0.01614757563275593,
          0.005765090464719735,
          0.049388055933345054,
          -0.004250228267946188,
          0.008473836125368894,
          0.011508582643672716,
          0.010130757395656165,
          0.09445800669695892,
          -0.00615375446717592,
          0.004693743993464228,
          0.016851350344471383,
          0.07532539713785158,
          0.023684340540681026,
          0.05070393864878242,
          0.018831505772449297,
          0.013613660196949207,
          0.023419322298478873,
          0.006306213786729353,
          0.025563875496638078,
          0.038028105005560864,
          0.04162716387136678,
          0.04435053844496695,
          0.04804529071713226,
          0.08721846317161197,
          0.07315905823939395,
          0.1251039387972912,
          0.07822350094073016,
          0.08138254779202714,
          0.09120633723714855,
          0.08461410153160376,
          0.06601972931524958,
          0.12341628893457468,
          0.10711339641159756,
          0.11702049682230786,
          0.11848276024263193,
          0.07403894345524398,
          0.09748437182960124,
          0.10237009088183924,
          0.1343361417114548,
          0.11619329256920574,
          0.1411752365244039,
          0.13886493732763605,
          0.0955931881875054,
          0.10379708629622142,
          0.14759312669952585,
          0.14053797798552492,
          0.1269634934463184,
          0.10400011197316861,
          0.1048170380433926,
          0.17203387525853886,
          0.039126347467221656,
          0.1335715801365729,
          0.11372090234207,
          0.08375902922764955,
          0.10369364372375811,
          0.10250998367211817,
          0.08606236731986949,
          0.09014720256146269,
          0.15384008488922873,
          0.10834564590199092,
          0.16271267204773365,
          0.06867131920956115,
          0.11216353042947325,
          0.08077873025047455,
          0.08791201556190109,
          0.06123407436917261,
          0.07975251390584392,
          0.08152224734614544,
          0.16883153384752947,
          0.10783116406768811,
          0.12300563743212867,
          0.11163857554758927,
          0.1173817326477411,
          0.1521343081169455,
          0.10965533498375946,
          0.11415775635258196,
          0.0725224982352084,
          0.11927462217451779,
          0.1273807455345224,
          0.11893215192935358
         ]
        }
       ],
       "layout": {
        "font": {
         "size": 16
        },
        "height": 600,
        "legend": {
         "x": 0.01,
         "y": 0.99
        },
        "template": {
         "data": {
          "bar": [
           {
            "error_x": {
             "color": "#2a3f5f"
            },
            "error_y": {
             "color": "#2a3f5f"
            },
            "marker": {
             "line": {
              "color": "white",
              "width": 0.5
             },
             "pattern": {
              "fillmode": "overlay",
              "size": 10,
              "solidity": 0.2
             }
            },
            "type": "bar"
           }
          ],
          "barpolar": [
           {
            "marker": {
             "line": {
              "color": "white",
              "width": 0.5
             },
             "pattern": {
              "fillmode": "overlay",
              "size": 10,
              "solidity": 0.2
             }
            },
            "type": "barpolar"
           }
          ],
          "carpet": [
           {
            "aaxis": {
             "endlinecolor": "#2a3f5f",
             "gridcolor": "#C8D4E3",
             "linecolor": "#C8D4E3",
             "minorgridcolor": "#C8D4E3",
             "startlinecolor": "#2a3f5f"
            },
            "baxis": {
             "endlinecolor": "#2a3f5f",
             "gridcolor": "#C8D4E3",
             "linecolor": "#C8D4E3",
             "minorgridcolor": "#C8D4E3",
             "startlinecolor": "#2a3f5f"
            },
            "type": "carpet"
           }
          ],
          "choropleth": [
           {
            "colorbar": {
             "outlinewidth": 0,
             "ticks": ""
            },
            "type": "choropleth"
           }
          ],
          "contour": [
           {
            "colorbar": {
             "outlinewidth": 0,
             "ticks": ""
            },
            "colorscale": [
             [
              0,
              "#0d0887"
             ],
             [
              0.1111111111111111,
              "#46039f"
             ],
             [
              0.2222222222222222,
              "#7201a8"
             ],
             [
              0.3333333333333333,
              "#9c179e"
             ],
             [
              0.4444444444444444,
              "#bd3786"
             ],
             [
              0.5555555555555556,
              "#d8576b"
             ],
             [
              0.6666666666666666,
              "#ed7953"
             ],
             [
              0.7777777777777778,
              "#fb9f3a"
             ],
             [
              0.8888888888888888,
              "#fdca26"
             ],
             [
              1,
              "#f0f921"
             ]
            ],
            "type": "contour"
           }
          ],
          "contourcarpet": [
           {
            "colorbar": {
             "outlinewidth": 0,
             "ticks": ""
            },
            "type": "contourcarpet"
           }
          ],
          "heatmap": [
           {
            "colorbar": {
             "outlinewidth": 0,
             "ticks": ""
            },
            "colorscale": [
             [
              0,
              "#0d0887"
             ],
             [
              0.1111111111111111,
              "#46039f"
             ],
             [
              0.2222222222222222,
              "#7201a8"
             ],
             [
              0.3333333333333333,
              "#9c179e"
             ],
             [
              0.4444444444444444,
              "#bd3786"
             ],
             [
              0.5555555555555556,
              "#d8576b"
             ],
             [
              0.6666666666666666,
              "#ed7953"
             ],
             [
              0.7777777777777778,
              "#fb9f3a"
             ],
             [
              0.8888888888888888,
              "#fdca26"
             ],
             [
              1,
              "#f0f921"
             ]
            ],
            "type": "heatmap"
           }
          ],
          "heatmapgl": [
           {
            "colorbar": {
             "outlinewidth": 0,
             "ticks": ""
            },
            "colorscale": [
             [
              0,
              "#0d0887"
             ],
             [
              0.1111111111111111,
              "#46039f"
             ],
             [
              0.2222222222222222,
              "#7201a8"
             ],
             [
              0.3333333333333333,
              "#9c179e"
             ],
             [
              0.4444444444444444,
              "#bd3786"
             ],
             [
              0.5555555555555556,
              "#d8576b"
             ],
             [
              0.6666666666666666,
              "#ed7953"
             ],
             [
              0.7777777777777778,
              "#fb9f3a"
             ],
             [
              0.8888888888888888,
              "#fdca26"
             ],
             [
              1,
              "#f0f921"
             ]
            ],
            "type": "heatmapgl"
           }
          ],
          "histogram": [
           {
            "marker": {
             "pattern": {
              "fillmode": "overlay",
              "size": 10,
              "solidity": 0.2
             }
            },
            "type": "histogram"
           }
          ],
          "histogram2d": [
           {
            "colorbar": {
             "outlinewidth": 0,
             "ticks": ""
            },
            "colorscale": [
             [
              0,
              "#0d0887"
             ],
             [
              0.1111111111111111,
              "#46039f"
             ],
             [
              0.2222222222222222,
              "#7201a8"
             ],
             [
              0.3333333333333333,
              "#9c179e"
             ],
             [
              0.4444444444444444,
              "#bd3786"
             ],
             [
              0.5555555555555556,
              "#d8576b"
             ],
             [
              0.6666666666666666,
              "#ed7953"
             ],
             [
              0.7777777777777778,
              "#fb9f3a"
             ],
             [
              0.8888888888888888,
              "#fdca26"
             ],
             [
              1,
              "#f0f921"
             ]
            ],
            "type": "histogram2d"
           }
          ],
          "histogram2dcontour": [
           {
            "colorbar": {
             "outlinewidth": 0,
             "ticks": ""
            },
            "colorscale": [
             [
              0,
              "#0d0887"
             ],
             [
              0.1111111111111111,
              "#46039f"
             ],
             [
              0.2222222222222222,
              "#7201a8"
             ],
             [
              0.3333333333333333,
              "#9c179e"
             ],
             [
              0.4444444444444444,
              "#bd3786"
             ],
             [
              0.5555555555555556,
              "#d8576b"
             ],
             [
              0.6666666666666666,
              "#ed7953"
             ],
             [
              0.7777777777777778,
              "#fb9f3a"
             ],
             [
              0.8888888888888888,
              "#fdca26"
             ],
             [
              1,
              "#f0f921"
             ]
            ],
            "type": "histogram2dcontour"
           }
          ],
          "mesh3d": [
           {
            "colorbar": {
             "outlinewidth": 0,
             "ticks": ""
            },
            "type": "mesh3d"
           }
          ],
          "parcoords": [
           {
            "line": {
             "colorbar": {
              "outlinewidth": 0,
              "ticks": ""
             }
            },
            "type": "parcoords"
           }
          ],
          "pie": [
           {
            "automargin": true,
            "type": "pie"
           }
          ],
          "scatter": [
           {
            "fillpattern": {
             "fillmode": "overlay",
             "size": 10,
             "solidity": 0.2
            },
            "type": "scatter"
           }
          ],
          "scatter3d": [
           {
            "line": {
             "colorbar": {
              "outlinewidth": 0,
              "ticks": ""
             }
            },
            "marker": {
             "colorbar": {
              "outlinewidth": 0,
              "ticks": ""
             }
            },
            "type": "scatter3d"
           }
          ],
          "scattercarpet": [
           {
            "marker": {
             "colorbar": {
              "outlinewidth": 0,
              "ticks": ""
             }
            },
            "type": "scattercarpet"
           }
          ],
          "scattergeo": [
           {
            "marker": {
             "colorbar": {
              "outlinewidth": 0,
              "ticks": ""
             }
            },
            "type": "scattergeo"
           }
          ],
          "scattergl": [
           {
            "marker": {
             "colorbar": {
              "outlinewidth": 0,
              "ticks": ""
             }
            },
            "type": "scattergl"
           }
          ],
          "scattermapbox": [
           {
            "marker": {
             "colorbar": {
              "outlinewidth": 0,
              "ticks": ""
             }
            },
            "type": "scattermapbox"
           }
          ],
          "scatterpolar": [
           {
            "marker": {
             "colorbar": {
              "outlinewidth": 0,
              "ticks": ""
             }
            },
            "type": "scatterpolar"
           }
          ],
          "scatterpolargl": [
           {
            "marker": {
             "colorbar": {
              "outlinewidth": 0,
              "ticks": ""
             }
            },
            "type": "scatterpolargl"
           }
          ],
          "scatterternary": [
           {
            "marker": {
             "colorbar": {
              "outlinewidth": 0,
              "ticks": ""
             }
            },
            "type": "scatterternary"
           }
          ],
          "surface": [
           {
            "colorbar": {
             "outlinewidth": 0,
             "ticks": ""
            },
            "colorscale": [
             [
              0,
              "#0d0887"
             ],
             [
              0.1111111111111111,
              "#46039f"
             ],
             [
              0.2222222222222222,
              "#7201a8"
             ],
             [
              0.3333333333333333,
              "#9c179e"
             ],
             [
              0.4444444444444444,
              "#bd3786"
             ],
             [
              0.5555555555555556,
              "#d8576b"
             ],
             [
              0.6666666666666666,
              "#ed7953"
             ],
             [
              0.7777777777777778,
              "#fb9f3a"
             ],
             [
              0.8888888888888888,
              "#fdca26"
             ],
             [
              1,
              "#f0f921"
             ]
            ],
            "type": "surface"
           }
          ],
          "table": [
           {
            "cells": {
             "fill": {
              "color": "#EBF0F8"
             },
             "line": {
              "color": "white"
             }
            },
            "header": {
             "fill": {
              "color": "#C8D4E3"
             },
             "line": {
              "color": "white"
             }
            },
            "type": "table"
           }
          ]
         },
         "layout": {
          "annotationdefaults": {
           "arrowcolor": "#2a3f5f",
           "arrowhead": 0,
           "arrowwidth": 1
          },
          "autotypenumbers": "strict",
          "coloraxis": {
           "colorbar": {
            "outlinewidth": 0,
            "ticks": ""
           }
          },
          "colorscale": {
           "diverging": [
            [
             0,
             "#8e0152"
            ],
            [
             0.1,
             "#c51b7d"
            ],
            [
             0.2,
             "#de77ae"
            ],
            [
             0.3,
             "#f1b6da"
            ],
            [
             0.4,
             "#fde0ef"
            ],
            [
             0.5,
             "#f7f7f7"
            ],
            [
             0.6,
             "#e6f5d0"
            ],
            [
             0.7,
             "#b8e186"
            ],
            [
             0.8,
             "#7fbc41"
            ],
            [
             0.9,
             "#4d9221"
            ],
            [
             1,
             "#276419"
            ]
           ],
           "sequential": [
            [
             0,
             "#0d0887"
            ],
            [
             0.1111111111111111,
             "#46039f"
            ],
            [
             0.2222222222222222,
             "#7201a8"
            ],
            [
             0.3333333333333333,
             "#9c179e"
            ],
            [
             0.4444444444444444,
             "#bd3786"
            ],
            [
             0.5555555555555556,
             "#d8576b"
            ],
            [
             0.6666666666666666,
             "#ed7953"
            ],
            [
             0.7777777777777778,
             "#fb9f3a"
            ],
            [
             0.8888888888888888,
             "#fdca26"
            ],
            [
             1,
             "#f0f921"
            ]
           ],
           "sequentialminus": [
            [
             0,
             "#0d0887"
            ],
            [
             0.1111111111111111,
             "#46039f"
            ],
            [
             0.2222222222222222,
             "#7201a8"
            ],
            [
             0.3333333333333333,
             "#9c179e"
            ],
            [
             0.4444444444444444,
             "#bd3786"
            ],
            [
             0.5555555555555556,
             "#d8576b"
            ],
            [
             0.6666666666666666,
             "#ed7953"
            ],
            [
             0.7777777777777778,
             "#fb9f3a"
            ],
            [
             0.8888888888888888,
             "#fdca26"
            ],
            [
             1,
             "#f0f921"
            ]
           ]
          },
          "colorway": [
           "#636efa",
           "#EF553B",
           "#00cc96",
           "#ab63fa",
           "#FFA15A",
           "#19d3f3",
           "#FF6692",
           "#B6E880",
           "#FF97FF",
           "#FECB52"
          ],
          "font": {
           "color": "#2a3f5f"
          },
          "geo": {
           "bgcolor": "white",
           "lakecolor": "white",
           "landcolor": "white",
           "showlakes": true,
           "showland": true,
           "subunitcolor": "#C8D4E3"
          },
          "hoverlabel": {
           "align": "left"
          },
          "hovermode": "closest",
          "mapbox": {
           "style": "light"
          },
          "paper_bgcolor": "white",
          "plot_bgcolor": "white",
          "polar": {
           "angularaxis": {
            "gridcolor": "#EBF0F8",
            "linecolor": "#EBF0F8",
            "ticks": ""
           },
           "bgcolor": "white",
           "radialaxis": {
            "gridcolor": "#EBF0F8",
            "linecolor": "#EBF0F8",
            "ticks": ""
           }
          },
          "scene": {
           "xaxis": {
            "backgroundcolor": "white",
            "gridcolor": "#DFE8F3",
            "gridwidth": 2,
            "linecolor": "#EBF0F8",
            "showbackground": true,
            "ticks": "",
            "zerolinecolor": "#EBF0F8"
           },
           "yaxis": {
            "backgroundcolor": "white",
            "gridcolor": "#DFE8F3",
            "gridwidth": 2,
            "linecolor": "#EBF0F8",
            "showbackground": true,
            "ticks": "",
            "zerolinecolor": "#EBF0F8"
           },
           "zaxis": {
            "backgroundcolor": "white",
            "gridcolor": "#DFE8F3",
            "gridwidth": 2,
            "linecolor": "#EBF0F8",
            "showbackground": true,
            "ticks": "",
            "zerolinecolor": "#EBF0F8"
           }
          },
          "shapedefaults": {
           "line": {
            "color": "#2a3f5f"
           }
          },
          "ternary": {
           "aaxis": {
            "gridcolor": "#DFE8F3",
            "linecolor": "#A2B1C6",
            "ticks": ""
           },
           "baxis": {
            "gridcolor": "#DFE8F3",
            "linecolor": "#A2B1C6",
            "ticks": ""
           },
           "bgcolor": "white",
           "caxis": {
            "gridcolor": "#DFE8F3",
            "linecolor": "#A2B1C6",
            "ticks": ""
           }
          },
          "title": {
           "x": 0.05
          },
          "xaxis": {
           "automargin": true,
           "gridcolor": "#EBF0F8",
           "linecolor": "#EBF0F8",
           "ticks": "",
           "title": {
            "standoff": 15
           },
           "zerolinecolor": "#EBF0F8",
           "zerolinewidth": 2
          },
          "yaxis": {
           "automargin": true,
           "gridcolor": "#EBF0F8",
           "linecolor": "#EBF0F8",
           "ticks": "",
           "title": {
            "standoff": 15
           },
           "zerolinecolor": "#EBF0F8",
           "zerolinewidth": 2
          }
         }
        },
        "width": 1000,
        "xaxis": {
         "title": {
          "font": {
           "size": 18
          }
         }
        },
        "yaxis": {
         "tickformat": ".0%",
         "title": {
          "text": "Cumulative Return"
         }
        }
       }
      }
     },
     "metadata": {},
     "output_type": "display_data"
    }
   ],
   "source": [
    "spy = yf.download(\"IWM\", start=\"2022-11-03\")[\"Adj Close\"].pct_change().dropna()\n",
    "spy.index = [datetime.strftime(x, \"%Y-%m-%d\") for x in spy.index]\n",
    "\n",
    "rets = pd.concat((ret, spy), axis=1)\n",
    "rets.columns = [\"ret\", \"spy\"]\n",
    "\n",
    "result = smf.ols(\"ret~spy\", rets).fit()\n",
    "alpha = result.params[0]\n",
    "beta = result.params[1]\n",
    "info_ratio = alpha / np.sqrt(result.mse_resid)\n",
    "\n",
    "spy = beta*spy\n",
    "active = ret - spy\n",
    "\n",
    "trace1 = go.Scatter(\n",
    "    x = ret.index.to_list(),\n",
    "    y = (1+ret).cumprod()-1,\n",
    "    name = \"Total return\",\n",
    "    hovertemplate=\"%{x}<br>total=%{y:.2%}<extra></extra>\"\n",
    ")\n",
    "\n",
    "trace2 = go.Scatter(\n",
    "    x = active.index.to_list(),\n",
    "    y = (1+active).cumprod()-1,\n",
    "    name = \"Active part of return\",\n",
    "    hovertemplate=\"%{x}<br>active=%{y:.2%}<extra></extra>\"\n",
    ")\n",
    "trace3 = go.Scatter(\n",
    "    x = spy.index.to_list(),\n",
    "    y = (1+spy).cumprod()-1,\n",
    "    name = \"Russell 2000 part of return\",\n",
    "    hovertemplate=\"%{x}<br>iwm=%{y:.2%}<extra></extra>\"\n",
    ")\n",
    "fig = go.Figure()\n",
    "for trace in [trace1, trace3, trace2]:\n",
    "    fig.add_trace(trace)\n",
    "\n",
    "fig.update_layout(\n",
    "    yaxis_title=\"Cumulative Return\",\n",
    "    xaxis_title_font = {\"size\":18},\n",
    "    template=\"plotly_white\",\n",
    "    yaxis_tickformat=\".0%\",\n",
    "    height=600,  \n",
    "    width=1000,\n",
    "    legend=dict(\n",
    "      x = 0.01,\n",
    "      y = 0.99\n",
    "    ),\n",
    "    font_size=16\n",
    ")\n",
    "fig.write_image(\"cqa_figures/russell.jpeg\")\n",
    "fig.show()"
   ]
  },
  {
   "cell_type": "code",
   "execution_count": 106,
   "id": "ed36646e",
   "metadata": {},
   "outputs": [
    {
     "name": "stdout",
     "output_type": "stream",
     "text": [
      "annualized alpha with respect to IWM = 45.1%\n",
      "beta with respect to IWM = 0.26\n",
      "annualized info ratio with respect to IWM = 81.0%\n"
     ]
    }
   ],
   "source": [
    "print(f\"annualized alpha with respect to IWM = {252*result.params[0]:.1%}\")\n",
    "print(f\"beta with respect to IWM = {result.params[1]:.2f}\")\n",
    "print(f\"annualized info ratio with respect to IWM = {np.sqrt(252)* alpha / np.sqrt(result.mse_resid):.1%}\")"
   ]
  },
  {
   "attachments": {},
   "cell_type": "markdown",
   "id": "2f7ffe57",
   "metadata": {},
   "source": [
    "### Get industries and some stock characteristics"
   ]
  },
  {
   "cell_type": "code",
   "execution_count": 60,
   "id": "fbb01a65",
   "metadata": {},
   "outputs": [],
   "source": [
    "server = 'fs.rice.edu'\n",
    "database = 'stocks'\n",
    "username = 'stocks'\n",
    "password = '6LAZH1'\n",
    "string = \"mssql+pymssql://\" + username + \":\" + password + \"@\" + server + \"/\" + database \n",
    "\n",
    "conn = create_engine(string).connect()"
   ]
  },
  {
   "cell_type": "code",
   "execution_count": 94,
   "id": "ffd9bb20",
   "metadata": {},
   "outputs": [
    {
     "ename": "KeyError",
     "evalue": "'ticker'",
     "output_type": "error",
     "traceback": [
      "\u001b[1;31m---------------------------------------------------------------------------\u001b[0m",
      "\u001b[1;31mKeyError\u001b[0m                                  Traceback (most recent call last)",
      "\u001b[1;32mc:\\Users\\keb7\\repos\\mgmt767\\cqa_returns.ipynb Cell 24\u001b[0m in \u001b[0;36m2\n\u001b[0;32m      <a href='vscode-notebook-cell:/c%3A/Users/keb7/repos/mgmt767/cqa_returns.ipynb#X63sZmlsZQ%3D%3D?line=0'>1</a>\u001b[0m today \u001b[39m=\u001b[39m pd\u001b[39m.\u001b[39mread_sql(\u001b[39m\"\u001b[39m\u001b[39mselect ticker, famaindustry, agr, bm, marketcap, operprof, mom12m, retvol from today\u001b[39m\u001b[39m\"\u001b[39m, conn)\n\u001b[1;32m----> <a href='vscode-notebook-cell:/c%3A/Users/keb7/repos/mgmt767/cqa_returns.ipynb#X63sZmlsZQ%3D%3D?line=1'>2</a>\u001b[0m complete \u001b[39m=\u001b[39m df\u001b[39m.\u001b[39;49mreset_index()\u001b[39m.\u001b[39;49mmerge(today, on\u001b[39m=\u001b[39;49m\u001b[39m\"\u001b[39;49m\u001b[39mticker\u001b[39;49m\u001b[39m\"\u001b[39;49m, how\u001b[39m=\u001b[39;49m\u001b[39m\"\u001b[39;49m\u001b[39mouter\u001b[39;49m\u001b[39m\"\u001b[39;49m)\n\u001b[0;32m      <a href='vscode-notebook-cell:/c%3A/Users/keb7/repos/mgmt767/cqa_returns.ipynb#X63sZmlsZQ%3D%3D?line=3'>4</a>\u001b[0m oneday \u001b[39m=\u001b[39m complete[complete\u001b[39m.\u001b[39mdate\u001b[39m==\u001b[39m\u001b[39m\"\u001b[39m\u001b[39m2023-02-01\u001b[39m\u001b[39m\"\u001b[39m]\n\u001b[0;32m      <a href='vscode-notebook-cell:/c%3A/Users/keb7/repos/mgmt767/cqa_returns.ipynb#X63sZmlsZQ%3D%3D?line=4'>5</a>\u001b[0m longs \u001b[39m=\u001b[39m oneday[oneday\u001b[39m.\u001b[39mQuantity\u001b[39m>\u001b[39m\u001b[39m0\u001b[39m]\n",
      "File \u001b[1;32mc:\\Users\\keb7\\AppData\\Local\\Programs\\Python\\Python310\\lib\\site-packages\\pandas\\core\\frame.py:10083\u001b[0m, in \u001b[0;36mDataFrame.merge\u001b[1;34m(self, right, how, on, left_on, right_on, left_index, right_index, sort, suffixes, copy, indicator, validate)\u001b[0m\n\u001b[0;32m  10064\u001b[0m \u001b[39m@Substitution\u001b[39m(\u001b[39m\"\u001b[39m\u001b[39m\"\u001b[39m)\n\u001b[0;32m  10065\u001b[0m \u001b[39m@Appender\u001b[39m(_merge_doc, indents\u001b[39m=\u001b[39m\u001b[39m2\u001b[39m)\n\u001b[0;32m  10066\u001b[0m \u001b[39mdef\u001b[39;00m \u001b[39mmerge\u001b[39m(\n\u001b[1;32m   (...)\u001b[0m\n\u001b[0;32m  10079\u001b[0m     validate: \u001b[39mstr\u001b[39m \u001b[39m|\u001b[39m \u001b[39mNone\u001b[39;00m \u001b[39m=\u001b[39m \u001b[39mNone\u001b[39;00m,\n\u001b[0;32m  10080\u001b[0m ) \u001b[39m-\u001b[39m\u001b[39m>\u001b[39m DataFrame:\n\u001b[0;32m  10081\u001b[0m     \u001b[39mfrom\u001b[39;00m \u001b[39mpandas\u001b[39;00m\u001b[39m.\u001b[39;00m\u001b[39mcore\u001b[39;00m\u001b[39m.\u001b[39;00m\u001b[39mreshape\u001b[39;00m\u001b[39m.\u001b[39;00m\u001b[39mmerge\u001b[39;00m \u001b[39mimport\u001b[39;00m merge\n\u001b[1;32m> 10083\u001b[0m     \u001b[39mreturn\u001b[39;00m merge(\n\u001b[0;32m  10084\u001b[0m         \u001b[39mself\u001b[39;49m,\n\u001b[0;32m  10085\u001b[0m         right,\n\u001b[0;32m  10086\u001b[0m         how\u001b[39m=\u001b[39;49mhow,\n\u001b[0;32m  10087\u001b[0m         on\u001b[39m=\u001b[39;49mon,\n\u001b[0;32m  10088\u001b[0m         left_on\u001b[39m=\u001b[39;49mleft_on,\n\u001b[0;32m  10089\u001b[0m         right_on\u001b[39m=\u001b[39;49mright_on,\n\u001b[0;32m  10090\u001b[0m         left_index\u001b[39m=\u001b[39;49mleft_index,\n\u001b[0;32m  10091\u001b[0m         right_index\u001b[39m=\u001b[39;49mright_index,\n\u001b[0;32m  10092\u001b[0m         sort\u001b[39m=\u001b[39;49msort,\n\u001b[0;32m  10093\u001b[0m         suffixes\u001b[39m=\u001b[39;49msuffixes,\n\u001b[0;32m  10094\u001b[0m         copy\u001b[39m=\u001b[39;49mcopy,\n\u001b[0;32m  10095\u001b[0m         indicator\u001b[39m=\u001b[39;49mindicator,\n\u001b[0;32m  10096\u001b[0m         validate\u001b[39m=\u001b[39;49mvalidate,\n\u001b[0;32m  10097\u001b[0m     )\n",
      "File \u001b[1;32mc:\\Users\\keb7\\AppData\\Local\\Programs\\Python\\Python310\\lib\\site-packages\\pandas\\core\\reshape\\merge.py:111\u001b[0m, in \u001b[0;36mmerge\u001b[1;34m(left, right, how, on, left_on, right_on, left_index, right_index, sort, suffixes, copy, indicator, validate)\u001b[0m\n\u001b[0;32m     94\u001b[0m \u001b[39m@Substitution\u001b[39m(\u001b[39m\"\u001b[39m\u001b[39m\\n\u001b[39;00m\u001b[39mleft : DataFrame or named Series\u001b[39m\u001b[39m\"\u001b[39m)\n\u001b[0;32m     95\u001b[0m \u001b[39m@Appender\u001b[39m(_merge_doc, indents\u001b[39m=\u001b[39m\u001b[39m0\u001b[39m)\n\u001b[0;32m     96\u001b[0m \u001b[39mdef\u001b[39;00m \u001b[39mmerge\u001b[39m(\n\u001b[1;32m   (...)\u001b[0m\n\u001b[0;32m    109\u001b[0m     validate: \u001b[39mstr\u001b[39m \u001b[39m|\u001b[39m \u001b[39mNone\u001b[39;00m \u001b[39m=\u001b[39m \u001b[39mNone\u001b[39;00m,\n\u001b[0;32m    110\u001b[0m ) \u001b[39m-\u001b[39m\u001b[39m>\u001b[39m DataFrame:\n\u001b[1;32m--> 111\u001b[0m     op \u001b[39m=\u001b[39m _MergeOperation(\n\u001b[0;32m    112\u001b[0m         left,\n\u001b[0;32m    113\u001b[0m         right,\n\u001b[0;32m    114\u001b[0m         how\u001b[39m=\u001b[39;49mhow,\n\u001b[0;32m    115\u001b[0m         on\u001b[39m=\u001b[39;49mon,\n\u001b[0;32m    116\u001b[0m         left_on\u001b[39m=\u001b[39;49mleft_on,\n\u001b[0;32m    117\u001b[0m         right_on\u001b[39m=\u001b[39;49mright_on,\n\u001b[0;32m    118\u001b[0m         left_index\u001b[39m=\u001b[39;49mleft_index,\n\u001b[0;32m    119\u001b[0m         right_index\u001b[39m=\u001b[39;49mright_index,\n\u001b[0;32m    120\u001b[0m         sort\u001b[39m=\u001b[39;49msort,\n\u001b[0;32m    121\u001b[0m         suffixes\u001b[39m=\u001b[39;49msuffixes,\n\u001b[0;32m    122\u001b[0m         indicator\u001b[39m=\u001b[39;49mindicator,\n\u001b[0;32m    123\u001b[0m         validate\u001b[39m=\u001b[39;49mvalidate,\n\u001b[0;32m    124\u001b[0m     )\n\u001b[0;32m    125\u001b[0m     \u001b[39mreturn\u001b[39;00m op\u001b[39m.\u001b[39mget_result(copy\u001b[39m=\u001b[39mcopy)\n",
      "File \u001b[1;32mc:\\Users\\keb7\\AppData\\Local\\Programs\\Python\\Python310\\lib\\site-packages\\pandas\\core\\reshape\\merge.py:706\u001b[0m, in \u001b[0;36m_MergeOperation.__init__\u001b[1;34m(self, left, right, how, on, left_on, right_on, axis, left_index, right_index, sort, suffixes, indicator, validate)\u001b[0m\n\u001b[0;32m    699\u001b[0m \u001b[39mself\u001b[39m\u001b[39m.\u001b[39m_cross \u001b[39m=\u001b[39m cross_col\n\u001b[0;32m    701\u001b[0m \u001b[39m# note this function has side effects\u001b[39;00m\n\u001b[0;32m    702\u001b[0m (\n\u001b[0;32m    703\u001b[0m     \u001b[39mself\u001b[39m\u001b[39m.\u001b[39mleft_join_keys,\n\u001b[0;32m    704\u001b[0m     \u001b[39mself\u001b[39m\u001b[39m.\u001b[39mright_join_keys,\n\u001b[0;32m    705\u001b[0m     \u001b[39mself\u001b[39m\u001b[39m.\u001b[39mjoin_names,\n\u001b[1;32m--> 706\u001b[0m ) \u001b[39m=\u001b[39m \u001b[39mself\u001b[39;49m\u001b[39m.\u001b[39;49m_get_merge_keys()\n\u001b[0;32m    708\u001b[0m \u001b[39m# validate the merge keys dtypes. We may need to coerce\u001b[39;00m\n\u001b[0;32m    709\u001b[0m \u001b[39m# to avoid incompatible dtypes\u001b[39;00m\n\u001b[0;32m    710\u001b[0m \u001b[39mself\u001b[39m\u001b[39m.\u001b[39m_maybe_coerce_merge_keys()\n",
      "File \u001b[1;32mc:\\Users\\keb7\\AppData\\Local\\Programs\\Python\\Python310\\lib\\site-packages\\pandas\\core\\reshape\\merge.py:1182\u001b[0m, in \u001b[0;36m_MergeOperation._get_merge_keys\u001b[1;34m(self)\u001b[0m\n\u001b[0;32m   1178\u001b[0m \u001b[39mif\u001b[39;00m lk \u001b[39mis\u001b[39;00m \u001b[39mnot\u001b[39;00m \u001b[39mNone\u001b[39;00m:\n\u001b[0;32m   1179\u001b[0m     \u001b[39m# Then we're either Hashable or a wrong-length arraylike,\u001b[39;00m\n\u001b[0;32m   1180\u001b[0m     \u001b[39m#  the latter of which will raise\u001b[39;00m\n\u001b[0;32m   1181\u001b[0m     lk \u001b[39m=\u001b[39m cast(Hashable, lk)\n\u001b[1;32m-> 1182\u001b[0m     left_keys\u001b[39m.\u001b[39mappend(left\u001b[39m.\u001b[39;49m_get_label_or_level_values(lk))\n\u001b[0;32m   1183\u001b[0m     join_names\u001b[39m.\u001b[39mappend(lk)\n\u001b[0;32m   1184\u001b[0m \u001b[39melse\u001b[39;00m:\n\u001b[0;32m   1185\u001b[0m     \u001b[39m# work-around for merge_asof(left_index=True)\u001b[39;00m\n",
      "File \u001b[1;32mc:\\Users\\keb7\\AppData\\Local\\Programs\\Python\\Python310\\lib\\site-packages\\pandas\\core\\generic.py:1849\u001b[0m, in \u001b[0;36mNDFrame._get_label_or_level_values\u001b[1;34m(self, key, axis)\u001b[0m\n\u001b[0;32m   1843\u001b[0m     values \u001b[39m=\u001b[39m (\n\u001b[0;32m   1844\u001b[0m         \u001b[39mself\u001b[39m\u001b[39m.\u001b[39maxes[axis]\n\u001b[0;32m   1845\u001b[0m         \u001b[39m.\u001b[39mget_level_values(key)  \u001b[39m# type: ignore[assignment]\u001b[39;00m\n\u001b[0;32m   1846\u001b[0m         \u001b[39m.\u001b[39m_values\n\u001b[0;32m   1847\u001b[0m     )\n\u001b[0;32m   1848\u001b[0m \u001b[39melse\u001b[39;00m:\n\u001b[1;32m-> 1849\u001b[0m     \u001b[39mraise\u001b[39;00m \u001b[39mKeyError\u001b[39;00m(key)\n\u001b[0;32m   1851\u001b[0m \u001b[39m# Check for duplicates\u001b[39;00m\n\u001b[0;32m   1852\u001b[0m \u001b[39mif\u001b[39;00m values\u001b[39m.\u001b[39mndim \u001b[39m>\u001b[39m \u001b[39m1\u001b[39m:\n",
      "\u001b[1;31mKeyError\u001b[0m: 'ticker'"
     ]
    }
   ],
   "source": [
    "today = pd.read_sql(\"select ticker, famaindustry, agr, bm, marketcap, operprof, mom12m, retvol from today\", conn)\n",
    "complete = df.reset_index().merge(today, on=\"ticker\", how=\"outer\")\n",
    "\n",
    "oneday = complete[complete.date==\"2023-02-01\"]\n",
    "longs = oneday[oneday.Quantity>0]\n",
    "shorts = oneday[oneday.Quantity<0]\n",
    "shorts[\"Value\"] = - shorts.Value\n"
   ]
  },
  {
   "attachments": {},
   "cell_type": "markdown",
   "id": "7b5852c0",
   "metadata": {},
   "source": [
    "### Long industries"
   ]
  },
  {
   "cell_type": "code",
   "execution_count": 51,
   "id": "8c6b8b56",
   "metadata": {},
   "outputs": [],
   "source": [
    "fig = px.pie(longs, values=\"Value\", names=\"famaindustry\")\n",
    "fig.write_image(\"cqa_figures/long_industries.jpeg\")\n",
    "fig.show()"
   ]
  },
  {
   "cell_type": "markdown",
   "id": "3e7ecf11",
   "metadata": {},
   "source": [
    "### Short industries"
   ]
  },
  {
   "cell_type": "code",
   "execution_count": 16,
   "id": "5b8194c8",
   "metadata": {},
   "outputs": [
    {
     "data": {
      "text/html": [
       "<div>\n",
       "<style scoped>\n",
       "    .dataframe tbody tr th:only-of-type {\n",
       "        vertical-align: middle;\n",
       "    }\n",
       "\n",
       "    .dataframe tbody tr th {\n",
       "        vertical-align: top;\n",
       "    }\n",
       "\n",
       "    .dataframe thead th {\n",
       "        text-align: right;\n",
       "    }\n",
       "</style>\n",
       "<table border=\"1\" class=\"dataframe\">\n",
       "  <thead>\n",
       "    <tr style=\"text-align: right;\">\n",
       "      <th></th>\n",
       "      <th>ticker</th>\n",
       "      <th>Quantity</th>\n",
       "      <th>Close</th>\n",
       "      <th>Price</th>\n",
       "      <th>Value</th>\n",
       "      <th>siccd</th>\n",
       "      <th>date</th>\n",
       "      <th>roeq</th>\n",
       "      <th>roaq</th>\n",
       "      <th>acc</th>\n",
       "      <th>...</th>\n",
       "      <th>retvol</th>\n",
       "      <th>name</th>\n",
       "      <th>exchange</th>\n",
       "      <th>sicsector</th>\n",
       "      <th>sicindustry</th>\n",
       "      <th>famaindustry</th>\n",
       "      <th>sector</th>\n",
       "      <th>industry</th>\n",
       "      <th>scalemarketcap</th>\n",
       "      <th>scalerevenue</th>\n",
       "    </tr>\n",
       "  </thead>\n",
       "  <tbody>\n",
       "  </tbody>\n",
       "</table>\n",
       "<p>0 rows × 36 columns</p>\n",
       "</div>"
      ],
      "text/plain": [
       "Empty DataFrame\n",
       "Columns: [ticker, Quantity, Close, Price, Value, siccd, date, roeq, roaq, acc, agr, bm, ep, gma, lev, operprof, currat, saleinv, roic, beta, idiovol, mom12m, mom1m, price, marketcap, mve, retvol, name, exchange, sicsector, sicindustry, famaindustry, sector, industry, scalemarketcap, scalerevenue]\n",
       "Index: []\n",
       "\n",
       "[0 rows x 36 columns]"
      ]
     },
     "execution_count": 16,
     "metadata": {},
     "output_type": "execute_result"
    }
   ],
   "source": [
    "fig = px.pie(shorts, values=\"Value\", names=\"famaindustry\")\n",
    "fig.write_image(\"cqa_figures/short_industries.jpeg\")\n",
    "fig.show()"
   ]
  },
  {
   "attachments": {},
   "cell_type": "markdown",
   "id": "ece1a796",
   "metadata": {},
   "source": [
    "### Net exposures: size and characteristics"
   ]
  },
  {
   "cell_type": "code",
   "execution_count": 26,
   "id": "67b807cd",
   "metadata": {},
   "outputs": [
    {
     "data": {
      "text/html": [
       "<div>\n",
       "<style scoped>\n",
       "    .dataframe tbody tr th:only-of-type {\n",
       "        vertical-align: middle;\n",
       "    }\n",
       "\n",
       "    .dataframe tbody tr th {\n",
       "        vertical-align: top;\n",
       "    }\n",
       "\n",
       "    .dataframe thead th {\n",
       "        text-align: right;\n",
       "    }\n",
       "</style>\n",
       "<table border=\"1\" class=\"dataframe\">\n",
       "  <thead>\n",
       "    <tr style=\"text-align: right;\">\n",
       "      <th></th>\n",
       "      <th>ticker</th>\n",
       "      <th>date</th>\n",
       "      <th>price</th>\n",
       "      <th>closeadj</th>\n",
       "      <th>industry</th>\n",
       "      <th>ret</th>\n",
       "    </tr>\n",
       "  </thead>\n",
       "  <tbody>\n",
       "    <tr>\n",
       "      <th>0</th>\n",
       "      <td>A</td>\n",
       "      <td>2022-11-01</td>\n",
       "      <td>140.89</td>\n",
       "      <td>140.678</td>\n",
       "      <td>Measuring and Control Equipment</td>\n",
       "      <td>NaN</td>\n",
       "    </tr>\n",
       "    <tr>\n",
       "      <th>1</th>\n",
       "      <td>A</td>\n",
       "      <td>2022-11-02</td>\n",
       "      <td>135.27</td>\n",
       "      <td>135.067</td>\n",
       "      <td>Measuring and Control Equipment</td>\n",
       "      <td>-0.039885</td>\n",
       "    </tr>\n",
       "    <tr>\n",
       "      <th>2</th>\n",
       "      <td>A</td>\n",
       "      <td>2022-11-03</td>\n",
       "      <td>134.46</td>\n",
       "      <td>134.258</td>\n",
       "      <td>Measuring and Control Equipment</td>\n",
       "      <td>-0.005990</td>\n",
       "    </tr>\n",
       "    <tr>\n",
       "      <th>3</th>\n",
       "      <td>A</td>\n",
       "      <td>2022-11-04</td>\n",
       "      <td>136.08</td>\n",
       "      <td>135.876</td>\n",
       "      <td>Measuring and Control Equipment</td>\n",
       "      <td>0.012051</td>\n",
       "    </tr>\n",
       "    <tr>\n",
       "      <th>4</th>\n",
       "      <td>A</td>\n",
       "      <td>2022-11-07</td>\n",
       "      <td>138.03</td>\n",
       "      <td>137.823</td>\n",
       "      <td>Measuring and Control Equipment</td>\n",
       "      <td>0.014329</td>\n",
       "    </tr>\n",
       "  </tbody>\n",
       "</table>\n",
       "</div>"
      ],
      "text/plain": [
       "  ticker       date   price  closeadj                         industry  \\\n",
       "0      A 2022-11-01  140.89   140.678  Measuring and Control Equipment   \n",
       "1      A 2022-11-02  135.27   135.067  Measuring and Control Equipment   \n",
       "2      A 2022-11-03  134.46   134.258  Measuring and Control Equipment   \n",
       "3      A 2022-11-04  136.08   135.876  Measuring and Control Equipment   \n",
       "4      A 2022-11-07  138.03   137.823  Measuring and Control Equipment   \n",
       "\n",
       "        ret  \n",
       "0       NaN  \n",
       "1 -0.039885  \n",
       "2 -0.005990  \n",
       "3  0.012051  \n",
       "4  0.014329  "
      ]
     },
     "execution_count": 26,
     "metadata": {},
     "output_type": "execute_result"
    }
   ],
   "source": [
    "for char in \"agr bm marketcap operprof mom12m retvol\".split():\n",
    "    df[char+\"_group\"] = pd.qcut(df[char], 5, labels=range(1, 6))\n",
    "\n",
    "agr = df.dropna(subset=[\"marketcap\", \"agr\", \"Value\"]).groupby([\"marketcap\", \"agr\"]).Value.sum().unstack()\n",
    "bm = df.dropna(subset=[\"marketcap\", \"bm\", \"Value\"]).groupby([\"marketcap\", \"bm\"]).Value.sum().unstack()\n",
    "operprof = df.dropna(subset=[\"marketcap\", \"operprof\", \"Value\"]).groupby([\"marketcap\", \"operprof\"]).Value.sum().unstack()\n",
    "mom12m = df.dropna(subset=[\"marketcap\", \"mom12m\", \"Value\"]).groupby([\"marketcap\", \"mom12m\"]).Value.sum().unstack()\n",
    "retvol = df.dropna(subset=[\"marketcap\", \"retvol\", \"Value\"]).groupby([\"marketcap\", \"retvol\"]).Value.sum().unstack()"
   ]
  },
  {
   "cell_type": "code",
   "execution_count": null,
   "id": "62bb2751-a323-4fec-9538-0fc4c4699d40",
   "metadata": {},
   "outputs": [],
   "source": [
    "chars = \"agr bm operprof mom12m retvol\".split()\n",
    "data = [agr, bm, operprof, mom12m, retvol]\n",
    "\n",
    "for char, d in zip(chars, data):\n",
    "    trace = go.Heatmap(\n",
    "        x=d.columns.to_list(),\n",
    "        y=d.index.to_list(),\n",
    "        z=d ,\n",
    "        colorscale='Viridis',\n",
    "        texttemplate=\"%{z:.1%}\"\n",
    "    )\n",
    "    fig = go.Figure(trace)\n",
    "    fig.update_layout(\n",
    "        template=\"plotly_white\",\n",
    "        font_size=16\n",
    ")\n",
    "fig.write_image(f\"cqa_figures/{char}.jpeg\")\n",
    "fig.show()"
   ]
  }
 ],
 "metadata": {
  "kernelspec": {
   "display_name": "Python 3 (ipykernel)",
   "language": "python",
   "name": "python3"
  },
  "language_info": {
   "codemirror_mode": {
    "name": "ipython",
    "version": 3
   },
   "file_extension": ".py",
   "mimetype": "text/x-python",
   "name": "python",
   "nbconvert_exporter": "python",
   "pygments_lexer": "ipython3",
   "version": "3.10.7"
  }
 },
 "nbformat": 4,
 "nbformat_minor": 5
}
