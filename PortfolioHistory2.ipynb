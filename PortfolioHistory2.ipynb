{
 "cells": [
  {
   "cell_type": "code",
   "execution_count": 1,
   "id": "abc42eb5-90a5-4b20-b6c3-b073eb6acf34",
   "metadata": {},
   "outputs": [],
   "source": [
    "import pandas as pd\n",
    "import numpy as np\n",
    "from pandas_datareader import DataReader as pdr\n",
    "from pandas_datareader.famafrench import get_available_datasets as ffdata\n",
    "import matplotlib.pyplot as plt\n",
    "import seaborn as sns\n",
    "sns.set_style('whitegrid')\n",
    "from datetime import datetime\n",
    "\n",
    "FILE = 'TransactionHistory_3_16_2022.csv'\n",
    "\n",
    "# connect to SQL database\n",
    "\n",
    "ODBC = True\n",
    "\n",
    "from sqlalchemy import create_engine\n",
    "server = 'fs.rice.edu'\n",
    "database = 'stocks'\n",
    "username = 'stocks'\n",
    "password = '6LAZH1'\n",
    "if ODBC :\n",
    "    driver = 'SQL+Server'\n",
    "    # driver = 'ODBC+Driver+17+for+SQL+Server' # use for linux\n",
    "    string = \"mssql+pyodbc://\" + username + \":\" + password + \"@\" + server + \"/\" + database + \"?driver=\" + driver\n",
    "    conn = create_engine(string).connect()\n",
    "else :\n",
    "    import pymssql\n",
    "    string = \"mssql+pymssql://\" + username + \":\" + password + \"@\" + server + \"/\" + database \n",
    "    conn = create_engine(string).connect()\n",
    "    \n",
    "# transaction data\n",
    "\n",
    "transact = pd.read_csv(FILE,parse_dates=['CreateDate'])\n",
    "transact = transact.drop(columns=['CompanyName','Exchange','FXRate','Currency','SecurityType'])\n",
    "transact['Price'] = transact.Price.apply(lambda x: x[1:]).astype(float)\n",
    "transact['Quantity'] = transact.Quantity.astype(int)\n",
    "transact = transact.sort_values(by=['Symbol','CreateDate','TransactionType'])\n",
    "transact = transact.drop_duplicates(subset=['Symbol','Quantity','Price','CreateDate'],keep='first')\n",
    "\n",
    "# cashflow and cash by date\n",
    "\n",
    "transact['cashflow'] = np.where(transact.TransactionType=='Dividends',transact.Quantity*transact.Price,-transact.Quantity*transact.Price)\n",
    "cashFlow = transact.copy()\n",
    "cashFlow['CreateDate'] = pd.to_datetime(cashFlow.CreateDate.dt.date)\n",
    "cashFlow = cashFlow.groupby('CreateDate').cashflow.sum().sort_index()\n",
    "cashFlow.index.name = 'date'\n",
    "cash = cashFlow.cumsum() + 1000000\n",
    "cash.name = 'cash'\n",
    "\n",
    "# now drop dividend rows from transact\n",
    "transact = transact[transact.TransactionType != 'Dividends']\n",
    "\n",
    "# now compute trades each day (summing if multiple trades in a day)\n",
    "\n",
    "trades = transact.copy()\n",
    "trades['CreateDate'] = pd.to_datetime(trades.CreateDate.dt.date)\n",
    "trades = trades.groupby(['Symbol','CreateDate']).Quantity.sum()\n",
    "trades.index.names = ['ticker','date']\n",
    "trades.name = 'trade'\n",
    "   \n",
    "# SQL data\n",
    "\n",
    "daily = pd.read_sql(\" select a.ticker, date, close_ as price, ret, famaindustry as industry \" \n",
    "                    \" from MarketDaily a inner join Companies b on a.ticker=b.ticker \" \n",
    "                    \" where date>='2021-11-01' \"\n",
    "                    \" order by ticker, date \", conn)\n",
    "daily['date'] = pd.to_datetime(daily.date)\n",
    "\n",
    "# all trading days and tickers in the portfolio with price, quantity, etc.\n",
    "\n",
    "history = daily.merge(trades,on=['ticker','date'],how='left')\n",
    "history['trade'] = history.trade.fillna(0)\n",
    "history['quantity'] = history.groupby('ticker').trade.cumsum()\n",
    "history['value'] = history.price*history.quantity\n",
    "history['sign'] = history.groupby('ticker').quantity.apply(np.sign)\n",
    "history['lagsign'] = history.groupby('ticker').sign.shift()\n",
    "x = history.groupby('ticker').apply(lambda d: d.value.shift()*d.ret)\n",
    "x.index = x.index.droplevel(0)\n",
    "history['gain'] = x\n",
    "\n",
    "# gains on longs and shorts and on Russell 2000 for all trading days\n",
    "\n",
    "gains = history.groupby(['date','lagsign']).gain.sum().unstack()\n",
    "gains = gains.drop(columns=0)\n",
    "gains = gains.rename(columns={-1:'short',1:'long'})\n",
    "gains = gains.cumsum()\n",
    "russell = pdr('IWM','yahoo',start='2021-11-04')\n",
    "gains['russell'] = 1000000 * (russell.Close / russell.Close.iloc[0] - 1)\n",
    "\n",
    "# portfolio value including cash\n",
    "\n",
    "portfolio = history.groupby(['date','sign']).value.sum().unstack()\n",
    "portfolio = portfolio.join(cash).drop(columns=0).dropna(how='all')\n",
    "portfolio['cash'] = portfolio.cash.ffill()\n",
    "portfolio = portfolio.rename(columns={-1:'short',1:'long'})\n",
    "portfolio['total'] = portfolio.sum(axis=1)\n",
    "\n",
    "# industry gains\n",
    "\n",
    "industries = history.groupby(['industry','lagsign']).gain.sum().unstack().drop(columns=0)\n",
    "industries = industries.rename(columns={-1:'short',1:'long'})"
   ]
  },
  {
   "cell_type": "markdown",
   "id": "26cb2952-050f-4fd5-87a3-5aadbdec68b5",
   "metadata": {},
   "source": [
    "# Create animation of industry weights"
   ]
  },
  {
   "cell_type": "code",
   "execution_count": 42,
   "id": "4fbc4cb2-381d-4a00-9d17-80f1fc7d8d2d",
   "metadata": {},
   "outputs": [],
   "source": [
    "# calculate industry weights\n",
    "\n",
    "hist = history.groupby(['industry','date']).value.sum()\n",
    "inds = hist[hist!=0].index.unique('industry')\n",
    "dates = hist.index.unique('date')\n",
    "indx = pd.MultiIndex.from_product((inds,dates))\n",
    "hist = hist.reindex(indx).fillna(0)\n",
    "hist = hist.reset_index()\n",
    "hist = hist.merge(portfolio.total,on='date',how='left')\n",
    "mindate = hist[hist.total.notnull()].date.min()\n",
    "hist = hist[hist.date>='2021-11-06']\n",
    "hist['percent'] = hist.value/hist.total\n",
    "hist = hist[['industry','date','percent']]\n",
    "hist['date'] = hist.date.astype(str)\n",
    "\n",
    "# sort industries by weights on start date\n",
    "\n",
    "start = hist[hist.date=='2021-11-08']\n",
    "ranks = start.sort_values(by='percent',ascending=False).industry.to_frame()\n",
    "ranks['rnk'] = range(len(ranks))\n",
    "ranks = ranks.set_index('industry')['rnk'].to_dict()\n",
    "hist['rnk'] = hist.industry.map(ranks)\n",
    "hist = hist.sort_values(by=['date','rnk'],ascending=(True,False))\n",
    "\n",
    "# create animation - change size with height= and width= in px.bar()\n",
    "import plotly.express as px\n",
    "fig = px.bar(hist,y='industry',x='percent',animation_frame='date',orientation='h',height=600,width=800)\n",
    "fig.layout.xaxis['title'] = 'Fraction of Portfolio Value'\n",
    "fig.layout.yaxis['title'] = 'Industry'\n",
    "fig.update_layout(margin=dict(l=30, r=20, t=20, b=200),paper_bgcolor=\"LightSteelBlue\")\n",
    "fig['layout'].pop('updatemenus')\n",
    "fig.update_xaxes(title_font_size=16,range=[-0.60,0.20])\n",
    "fig.update_yaxes(title_font_size=16)\n",
    "fig.update_layout(font_size=14)\n",
    "fig.write_html('industries.html')"
   ]
  },
  {
   "cell_type": "code",
   "execution_count": 50,
   "id": "8e800a4a-aa64-4c75-9027-6305c4ba885b",
   "metadata": {},
   "outputs": [
    {
     "data": {
      "text/html": [
       "<div>\n",
       "<style scoped>\n",
       "    .dataframe tbody tr th:only-of-type {\n",
       "        vertical-align: middle;\n",
       "    }\n",
       "\n",
       "    .dataframe tbody tr th {\n",
       "        vertical-align: top;\n",
       "    }\n",
       "\n",
       "    .dataframe thead th {\n",
       "        text-align: right;\n",
       "    }\n",
       "</style>\n",
       "<table border=\"1\" class=\"dataframe\">\n",
       "  <thead>\n",
       "    <tr style=\"text-align: right;\">\n",
       "      <th></th>\n",
       "      <th>RiceOwls</th>\n",
       "      <th>Russell2000</th>\n",
       "    </tr>\n",
       "  </thead>\n",
       "  <tbody>\n",
       "    <tr>\n",
       "      <th>2021-11-05</th>\n",
       "      <td>0.010812</td>\n",
       "      <td>0.013666</td>\n",
       "    </tr>\n",
       "    <tr>\n",
       "      <th>2021-11-08</th>\n",
       "      <td>0.011846</td>\n",
       "      <td>0.003102</td>\n",
       "    </tr>\n",
       "    <tr>\n",
       "      <th>2021-11-09</th>\n",
       "      <td>0.015192</td>\n",
       "      <td>-0.005813</td>\n",
       "    </tr>\n",
       "    <tr>\n",
       "      <th>2021-11-10</th>\n",
       "      <td>-0.007189</td>\n",
       "      <td>-0.015758</td>\n",
       "    </tr>\n",
       "    <tr>\n",
       "      <th>2021-11-11</th>\n",
       "      <td>0.014556</td>\n",
       "      <td>0.008047</td>\n",
       "    </tr>\n",
       "  </tbody>\n",
       "</table>\n",
       "</div>"
      ],
      "text/plain": [
       "            RiceOwls  Russell2000\n",
       "2021-11-05  0.010812     0.013666\n",
       "2021-11-08  0.011846     0.003102\n",
       "2021-11-09  0.015192    -0.005813\n",
       "2021-11-10 -0.007189    -0.015758\n",
       "2021-11-11  0.014556     0.008047"
      ]
     },
     "execution_count": 50,
     "metadata": {},
     "output_type": "execute_result"
    }
   ],
   "source": [
    "rets.head()"
   ]
  },
  {
   "cell_type": "markdown",
   "id": "6a18f613-d892-4469-af11-cfe3562a2634",
   "metadata": {},
   "source": [
    "# Risk analysis re Russell 2000"
   ]
  },
  {
   "cell_type": "code",
   "execution_count": 72,
   "id": "79581bd8-bded-486c-8794-1c3ac1c3a7b4",
   "metadata": {},
   "outputs": [
    {
     "data": {
      "text/plain": [
       "beta            -0.62\n",
       "alpha           85.21\n",
       "active risk     28.87\n",
       "info ratio     295.13\n",
       "dtype: float64"
      ]
     },
     "execution_count": 72,
     "metadata": {},
     "output_type": "execute_result"
    }
   ],
   "source": [
    "# compute returns\n",
    "ret = portfolio.total.pct_change()\n",
    "russ = russell['Adj Close'].pct_change()\n",
    "rets = pd.concat((ret,russ),axis=1).dropna()\n",
    "rets.columns=['RiceOwls','Russell2000']\n",
    "\n",
    "# run regression\n",
    "import statsmodels.api as sm\n",
    "result = sm.OLS(rets.RiceOwls,sm.add_constant(rets.Russell2000)).fit()\n",
    "\n",
    "# output results (all numbers in annualized percents, except beta)\n",
    "alpha = 100*252*result.params['const']\n",
    "beta = result.params['Russell2000']\n",
    "activeRisk = 100*np.sqrt(252*result.mse_resid)\n",
    "infoRatio =100*alpha / activeRisk\n",
    "output = pd.Series([beta,alpha,activeRisk,infoRatio],index=['beta','alpha','active risk','info ratio'])\n",
    "output.round(2)"
   ]
  },
  {
   "cell_type": "markdown",
   "id": "eb8ae2e1-d448-4488-ba73-187c077062fb",
   "metadata": {},
   "source": [
    "# Risk analysis re Fama-French and other factors"
   ]
  },
  {
   "cell_type": "code",
   "execution_count": 75,
   "id": "e053ac93-8a70-46af-a972-94d703174697",
   "metadata": {},
   "outputs": [
    {
     "data": {
      "text/html": [
       "<table class=\"simpletable\">\n",
       "<tr>\n",
       "     <td></td>       <th>coef</th>     <th>std err</th>      <th>t</th>      <th>P>|t|</th>  <th>[0.025</th>    <th>0.975]</th>  \n",
       "</tr>\n",
       "<tr>\n",
       "  <th>const</th>  <td>    0.0037</td> <td>    0.001</td> <td>    2.511</td> <td> 0.015</td> <td>    0.001</td> <td>    0.007</td>\n",
       "</tr>\n",
       "<tr>\n",
       "  <th>Mkt-RF</th> <td>   -0.0985</td> <td>    0.159</td> <td>   -0.621</td> <td> 0.538</td> <td>   -0.417</td> <td>    0.220</td>\n",
       "</tr>\n",
       "<tr>\n",
       "  <th>SMB</th>    <td>    0.1878</td> <td>    0.227</td> <td>    0.828</td> <td> 0.412</td> <td>   -0.268</td> <td>    0.644</td>\n",
       "</tr>\n",
       "<tr>\n",
       "  <th>HML</th>    <td>   -0.5695</td> <td>    0.375</td> <td>   -1.517</td> <td> 0.136</td> <td>   -1.323</td> <td>    0.184</td>\n",
       "</tr>\n",
       "<tr>\n",
       "  <th>RMW</th>    <td>    1.7589</td> <td>    0.315</td> <td>    5.589</td> <td> 0.000</td> <td>    1.127</td> <td>    2.391</td>\n",
       "</tr>\n",
       "<tr>\n",
       "  <th>CMA</th>    <td>   -1.1405</td> <td>    0.427</td> <td>   -2.670</td> <td> 0.010</td> <td>   -1.998</td> <td>   -0.283</td>\n",
       "</tr>\n",
       "<tr>\n",
       "  <th>Mom</th>    <td>    0.8482</td> <td>    0.189</td> <td>    4.477</td> <td> 0.000</td> <td>    0.468</td> <td>    1.229</td>\n",
       "</tr>\n",
       "<tr>\n",
       "  <th>ST_Rev</th> <td>    0.0994</td> <td>    0.157</td> <td>    0.633</td> <td> 0.530</td> <td>   -0.216</td> <td>    0.415</td>\n",
       "</tr>\n",
       "<tr>\n",
       "  <th>LT_Rev</th> <td>    1.7393</td> <td>    0.513</td> <td>    3.389</td> <td> 0.001</td> <td>    0.708</td> <td>    2.770</td>\n",
       "</tr>\n",
       "</table>"
      ],
      "text/plain": [
       "<class 'statsmodels.iolib.table.SimpleTable'>"
      ]
     },
     "execution_count": 75,
     "metadata": {},
     "output_type": "execute_result"
    }
   ],
   "source": [
    "# combine returns with factors\n",
    "ff = pdr('F-F_Research_Data_5_Factors_2x3_daily','famafrench')[0]/100\n",
    "d1 = pdr('F-F_Momentum_Factor_daily','famafrench')[0]/100\n",
    "d2 = pdr('F-F_ST_Reversal_Factor_daily','famafrench')[0]/100\n",
    "d3 = pdr('F-F_LT_Reversal_Factor_daily','famafrench')[0]/100\n",
    "data = pd.concat((ret,ff,d1,d2,d3),axis=1).dropna()\n",
    "data = data.rename(columns={'total':'RiceOwls'})\n",
    "data.columns = [x.strip() for x in data.columns]\n",
    "data['RiceOwls'] = data.RiceOwls - data.RF\n",
    "factors = ['Mkt-RF','SMB','HML','RMW','CMA','Mom','ST_Rev','LT_Rev']\n",
    "\n",
    "# run regression\n",
    "result = sm.OLS(data.RiceOwls,sm.add_constant(data[factors])).fit()\n",
    "result.summary().tables[1]"
   ]
  },
  {
   "cell_type": "code",
   "execution_count": 76,
   "id": "2d4f8233-ef5b-4036-a0ed-2aa42bc1e8d3",
   "metadata": {},
   "outputs": [
    {
     "data": {
      "text/plain": [
       "alpha           93.95\n",
       "active risk     14.87\n",
       "info ratio     631.76\n",
       "dtype: float64"
      ]
     },
     "execution_count": 76,
     "metadata": {},
     "output_type": "execute_result"
    }
   ],
   "source": [
    "# report important statistics\n",
    "alpha = 100*252*result.params['const']\n",
    "activeRisk = 100*np.sqrt(252*result.mse_resid)\n",
    "infoRatio = 100*alpha/activeRisk\n",
    "output = pd.Series([alpha,activeRisk,infoRatio],index=['alpha','active risk','info ratio'])\n",
    "output.round(2)"
   ]
  },
  {
   "cell_type": "markdown",
   "id": "640963bc-c831-4c11-91fd-7be1d75bdeb8",
   "metadata": {},
   "source": [
    "# Dollar gains/losses by industry"
   ]
  },
  {
   "cell_type": "code",
   "execution_count": 50,
   "id": "1643f5d4-1986-4f39-b66f-e17bf9bb5a07",
   "metadata": {},
   "outputs": [
    {
     "data": {
      "image/png": "[encoded data removed]",
      "text/plain": [
       "<Figure size 432x864 with 1 Axes>"
      ]
     },
     "metadata": {},
     "output_type": "display_data"
    }
   ],
   "source": [
    "industries.dropna(how='all').sum(axis=1).sort_values().plot(kind='barh',figsize=(6,12))\n",
    "plt.savefig('industries.pdf')"
   ]
  },
  {
   "cell_type": "code",
   "execution_count": null,
   "id": "62bb2751-a323-4fec-9538-0fc4c4699d40",
   "metadata": {},
   "outputs": [],
   "source": []
  }
 ],
 "metadata": {
  "kernelspec": {
   "display_name": "Python 3 (ipykernel)",
   "language": "python",
   "name": "python3"
  },
  "language_info": {
   "codemirror_mode": {
    "name": "ipython",
    "version": 3
   },
   "file_extension": ".py",
   "mimetype": "text/x-python",
   "name": "python",
   "nbconvert_exporter": "python",
   "pygments_lexer": "ipython3",
   "version": "3.9.7"
  }
 },
 "nbformat": 4,
 "nbformat_minor": 5
}
